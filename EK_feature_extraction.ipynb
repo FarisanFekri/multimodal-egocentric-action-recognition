{
  "nbformat": 4,
  "nbformat_minor": 0,
  "metadata": {
    "colab": {
      "provenance": [],
      "toc_visible": true
    },
    "kernelspec": {
      "name": "python3",
      "display_name": "Python 3"
    },
    "language_info": {
      "name": "python"
    }
  },
  "cells": [
    {
      "cell_type": "code",
      "source": [
        "# Removes the GitHub repository\n",
        "!rm -rf aml23-ego"
      ],
      "metadata": {
        "id": "ISRe0-6VN7eV"
      },
      "execution_count": null,
      "outputs": []
    },
    {
      "cell_type": "code",
      "execution_count": null,
      "metadata": {
        "colab": {
          "base_uri": "https://localhost:8080/"
        },
        "id": "1Xd9KWdSG3Ah",
        "outputId": "bd94e4ca-0704-40df-8205-933ac4cea019"
      },
      "outputs": [
        {
          "output_type": "stream",
          "name": "stdout",
          "text": [
            "Cloning into 'aml23-ego'...\n",
            "remote: Enumerating objects: 500, done.\u001b[K\n",
            "remote: Counting objects: 100% (212/212), done.\u001b[K\n",
            "remote: Compressing objects: 100% (90/90), done.\u001b[K\n",
            "remote: Total 500 (delta 130), reused 199 (delta 122), pack-reused 288\u001b[K\n",
            "Receiving objects: 100% (500/500), 596.75 MiB | 21.28 MiB/s, done.\n",
            "Resolving deltas: 100% (272/272), done.\n",
            "Updating files: 100% (76/76), done.\n"
          ]
        }
      ],
      "source": [
        "# Clone the public repository (or your repository)\n",
        "!git clone https://github.com/FestaShabani/aml23-ego.git aml23-ego"
      ]
    },
    {
      "cell_type": "code",
      "source": [
        "# Installing missing dependencies\n",
        "!pip install omegaconf coloredlogs wandb"
      ],
      "metadata": {
        "colab": {
          "base_uri": "https://localhost:8080/"
        },
        "id": "T7yPQq5CMOcx",
        "outputId": "224f43c4-6e88-4c87-c1a8-6a6f8fa9d420"
      },
      "execution_count": null,
      "outputs": [
        {
          "output_type": "stream",
          "name": "stdout",
          "text": [
            "Requirement already satisfied: omegaconf in /usr/local/lib/python3.10/dist-packages (2.3.0)\n",
            "Requirement already satisfied: coloredlogs in /usr/local/lib/python3.10/dist-packages (15.0.1)\n",
            "Requirement already satisfied: wandb in /usr/local/lib/python3.10/dist-packages (0.17.1)\n",
            "Requirement already satisfied: antlr4-python3-runtime==4.9.* in /usr/local/lib/python3.10/dist-packages (from omegaconf) (4.9.3)\n",
            "Requirement already satisfied: PyYAML>=5.1.0 in /usr/local/lib/python3.10/dist-packages (from omegaconf) (6.0.1)\n",
            "Requirement already satisfied: humanfriendly>=9.1 in /usr/local/lib/python3.10/dist-packages (from coloredlogs) (10.0)\n",
            "Requirement already satisfied: click!=8.0.0,>=7.1 in /usr/local/lib/python3.10/dist-packages (from wandb) (8.1.7)\n",
            "Requirement already satisfied: docker-pycreds>=0.4.0 in /usr/local/lib/python3.10/dist-packages (from wandb) (0.4.0)\n",
            "Requirement already satisfied: gitpython!=3.1.29,>=1.0.0 in /usr/local/lib/python3.10/dist-packages (from wandb) (3.1.43)\n",
            "Requirement already satisfied: platformdirs in /usr/local/lib/python3.10/dist-packages (from wandb) (4.2.2)\n",
            "Requirement already satisfied: protobuf!=4.21.0,<6,>=3.19.0 in /usr/local/lib/python3.10/dist-packages (from wandb) (3.20.3)\n",
            "Requirement already satisfied: psutil>=5.0.0 in /usr/local/lib/python3.10/dist-packages (from wandb) (5.9.5)\n",
            "Requirement already satisfied: requests<3,>=2.0.0 in /usr/local/lib/python3.10/dist-packages (from wandb) (2.31.0)\n",
            "Requirement already satisfied: sentry-sdk>=1.0.0 in /usr/local/lib/python3.10/dist-packages (from wandb) (2.5.1)\n",
            "Requirement already satisfied: setproctitle in /usr/local/lib/python3.10/dist-packages (from wandb) (1.3.3)\n",
            "Requirement already satisfied: setuptools in /usr/local/lib/python3.10/dist-packages (from wandb) (67.7.2)\n",
            "Requirement already satisfied: six>=1.4.0 in /usr/local/lib/python3.10/dist-packages (from docker-pycreds>=0.4.0->wandb) (1.16.0)\n",
            "Requirement already satisfied: gitdb<5,>=4.0.1 in /usr/local/lib/python3.10/dist-packages (from gitpython!=3.1.29,>=1.0.0->wandb) (4.0.11)\n",
            "Requirement already satisfied: charset-normalizer<4,>=2 in /usr/local/lib/python3.10/dist-packages (from requests<3,>=2.0.0->wandb) (3.3.2)\n",
            "Requirement already satisfied: idna<4,>=2.5 in /usr/local/lib/python3.10/dist-packages (from requests<3,>=2.0.0->wandb) (3.7)\n",
            "Requirement already satisfied: urllib3<3,>=1.21.1 in /usr/local/lib/python3.10/dist-packages (from requests<3,>=2.0.0->wandb) (2.0.7)\n",
            "Requirement already satisfied: certifi>=2017.4.17 in /usr/local/lib/python3.10/dist-packages (from requests<3,>=2.0.0->wandb) (2024.6.2)\n",
            "Requirement already satisfied: smmap<6,>=3.0.1 in /usr/local/lib/python3.10/dist-packages (from gitdb<5,>=4.0.1->gitpython!=3.1.29,>=1.0.0->wandb) (5.0.1)\n"
          ]
        }
      ]
    },
    {
      "cell_type": "markdown",
      "source": [
        "EPIC-Kitchens-55 dataset\n",
        "READ carefully!\n",
        "\n",
        "To develop the project, you need to download the RGB frames for a subset of EPIC-Kitchens-55 (participants P08, P01 and P22) from here.\n",
        "\n",
        "You also need to the pretrained checkpoints for each domain from here.\n",
        "\n",
        "Add the Google Drive directory containing the dataset to your Google Drive or upload the dataset on your Google Drive to access it from Google Colab.\n",
        "\n",
        "NOTE: As the dataset is quite heavy, we stronly suggest you to implement and test all your code on one for the three dataset. Then, once you are sure everything works, repeat the experiments on the remaining two datasets."
      ],
      "metadata": {
        "id": "7aTYRSrTHi1u"
      }
    },
    {
      "cell_type": "code",
      "source": [
        "# Mount google drive\n",
        "from google.colab import drive\n",
        "drive.mount('/content/drive')"
      ],
      "metadata": {
        "colab": {
          "base_uri": "https://localhost:8080/"
        },
        "id": "iOicgs9GHbhz",
        "outputId": "eac978c3-e37b-440d-e247-7c81b1dae3f2"
      },
      "execution_count": null,
      "outputs": [
        {
          "output_type": "stream",
          "name": "stdout",
          "text": [
            "Drive already mounted at /content/drive; to attempt to forcibly remount, call drive.mount(\"/content/drive\", force_remount=True).\n"
          ]
        }
      ]
    },
    {
      "cell_type": "code",
      "source": [
        "%%bash\n",
        "\n",
        "# As read and write operations from google drive are slow, we suggest to copy and unzip\n",
        "# the dataset in a local directory on the Colab's machine.\n",
        "mkdir -p ek_data/frames\n",
        "\n",
        "# Copy the *.tar.gz files of Epic-Kitchens\n",
        "cp -r \"./drive/MyDrive/Epic_Kitchens_reduced/\"* ./ek_data\n",
        "# Untar\n",
        "for file in ./ek_data/*.zip; do\n",
        "  fn=$(basename \"$file\" .zip)\n",
        "  ls -lah \"$file\"\n",
        "  unzip \"$file\" -d \"ek_data/frames/$fn\"\n",
        "  rm \"$file\"  # Remove the original .zip file after extraction\n",
        "done"
      ],
      "metadata": {
        "colab": {
          "base_uri": "https://localhost:8080/"
        },
        "id": "rb-bQee1Hnt5",
        "outputId": "3a589fda-320f-4c78-eea0-49bbb30056dd"
      },
      "execution_count": null,
      "outputs": [
        {
          "output_type": "stream",
          "name": "stderr",
          "text": [
            "IOPub data rate exceeded.\n",
            "The notebook server will temporarily stop sending output\n",
            "to the client in order to avoid crashing it.\n",
            "To change this limit, set the config variable\n",
            "`--NotebookApp.iopub_data_rate_limit`.\n",
            "\n",
            "Current values:\n",
            "NotebookApp.iopub_data_rate_limit=1000000.0 (bytes/sec)\n",
            "NotebookApp.rate_limit_window=3.0 (secs)\n",
            "\n"
          ]
        }
      ]
    },
    {
      "cell_type": "code",
      "source": [
        "#move saved_models from drive to aml23-ego\n",
        "!mkdir -p aml23-ego/saved_models/\n",
        "!cp -r \"./drive/MyDrive/saved_models/\"* ./aml23-ego/saved_models"
      ],
      "metadata": {
        "id": "ikzIQnchH3ZO"
      },
      "execution_count": null,
      "outputs": []
    },
    {
      "cell_type": "markdown",
      "source": [
        "**5_dense_pretrained_D1_train**"
      ],
      "metadata": {
        "id": "g4oyb6PiKuL1"
      }
    },
    {
      "cell_type": "code",
      "source": [
        "%%bash\n",
        "\n",
        "cd aml23-ego\n",
        "\n",
        "##to use the finetuned network uncomment resume_from\n",
        "\n",
        "#5_dense_pretrained_D1_train\n",
        "python save_feat_RGB_EK.py name=5_dense_pretrained \\\n",
        "  config=configs/I3D_save_feat.yaml \\\n",
        "  split=train \\\n",
        "  save.num_frames_per_clip.RGB=5 \\\n",
        "  save.dense_sampling.RGB=True"
      ],
      "metadata": {
        "colab": {
          "base_uri": "https://localhost:8080/"
        },
        "collapsed": true,
        "outputId": "9d5e8ea9-e24e-4cb5-adfa-13f4d9d64885",
        "id": "YKqHp7NQKuL7"
      },
      "execution_count": null,
      "outputs": [
        {
          "output_type": "stream",
          "name": "stderr",
          "text": [
            "2024-06-05 09:50:40 LOG INFO Feature Extraction\n",
            "2024-06-05 09:50:40 LOG INFO Running with parameters: \n",
            "  action: save\n",
            "  name: 5_dense_pretrained\n",
            "  modality: ['RGB']\n",
            "  total_batch: 128\n",
            "  batch_size: 32\n",
            "  gpus: None\n",
            "  wandb_name: None\n",
            "  resume_from: None\n",
            "  logname: save_D1-D1.log\n",
            "  models_dir: saved_models/5_dense_pretrained/Jun05_09-50-36\n",
            "  train:\n",
            "    num_iter: 5000\n",
            "    lr_steps: 3000\n",
            "    eval_freq: 50\n",
            "    num_clips: 1\n",
            "    dense_sampling:\n",
            "      RGB: True\n",
            "    num_frames_per_clip:\n",
            "      RGB: 10\n",
            "  test:\n",
            "    num_clips: 5\n",
            "    dense_sampling:\n",
            "      RGB: True\n",
            "    num_frames_per_clip:\n",
            "      RGB: 10\n",
            "  dataset:\n",
            "    annotations_path: train_val\n",
            "    shift: D1-D1\n",
            "    workers: 4\n",
            "    stride: 2\n",
            "    resolution: 224\n",
            "    num_classes: 8\n",
            "    RGB:\n",
            "      data_path: ../ek_data/frames\n",
            "      tmpl: img_{:010d}.jpg\n",
            "      features_name: test_feat_kinetics\n",
            "    Event:\n",
            "      rgb4e: 6\n",
            "  models:\n",
            "    RGB:\n",
            "      model: I3D\n",
            "      normalize: False\n",
            "      kwargs:\n",
            "      lr_steps: 3000\n",
            "      lr: 0.01\n",
            "      sgd_momentum: 0.9\n",
            "      weight_decay: 1e-07\n",
            "      dropout: 0.5\n",
            "      resolution: 224\n",
            "      weight_i3d_rgb: ./pretrained_i3d/rgb_imagenet.pt\n",
            "  split: train\n",
            "  save:\n",
            "    num_clips: 5\n",
            "    dense_sampling:\n",
            "      RGB: True\n",
            "    num_frames_per_clip:\n",
            "      RGB: 5\n",
            "  config: configs/I3D_save_feat.yaml\n",
            "  experiment_dir: 5_dense_pretrained/Jun05_09-50-36\n",
            "  log_dir: TEST_RESULTS/5_dense_pretrained\n",
            "  logfile: TEST_RESULTS/5_dense_pretrained/save_D1-D1.log\n",
            "2024-06-05 09:50:40 LOG INFO Instantiating models per modality\n",
            "2024-06-05 09:50:40 LOG INFO I3D Net\tModality: RGB\n",
            "2024-06-05 09:50:40 LOG INFO Loading Kinetics weights I3D\n",
            "2024-06-05 09:50:40 LOG INFO  * Skipping Logits weight for 'logits.conv3d.weight'\n",
            "2024-06-05 09:50:40 LOG INFO  * Skipping Logits weight for 'logits.conv3d.bias'\n",
            "2024-06-05 09:50:40 LOG INFO Dataloader for D1-train with 1543 samples generated\n",
            "/usr/local/lib/python3.10/dist-packages/torch/utils/data/dataloader.py:558: UserWarning: This DataLoader will create 4 worker processes in total. Our suggested max number of worker in current system is 2, which is smaller than what this DataLoader is going to create. Please be aware that excessive worker creation might get DataLoader running slow or even freeze, lower the worker number to avoid potential slowness/freeze if necessary.\n",
            "  warnings.warn(_create_warning_msg(\n",
            "/usr/local/lib/python3.10/dist-packages/torch/nn/modules/conv.py:605: UserWarning: Plan failed with a cudnnException: CUDNN_BACKEND_EXECUTION_PLAN_DESCRIPTOR: cudnnFinalize Descriptor Failed cudnn_status: CUDNN_STATUS_NOT_SUPPORTED (Triggered internally at ../aten/src/ATen/native/cudnn/Conv_v8.cpp:919.)\n",
            "  return F.conv3d(\n",
            "2024-06-05 09:51:31 LOG INFO [308/1543] top1= 19.481% top5 = 70.130%\n",
            "2024-06-05 09:52:21 LOG INFO [616/1543] top1= 17.045% top5 = 67.695%\n",
            "2024-06-05 09:53:10 LOG INFO [924/1543] top1= 15.693% top5 = 69.264%\n",
            "2024-06-05 09:54:00 LOG INFO [1232/1543] top1= 15.422% top5 = 69.237%\n",
            "2024-06-05 09:54:49 LOG INFO [1540/1543] top1= 15.974% top5 = 68.766%\n",
            "2024-06-05 09:54:49 LOG INFO Final accuracy: top1 = 15.94%\ttop5 = 68.70%\n",
            "2024-06-05 09:54:49 LOG INFO Class 0 = [225/421] = 53.44%\n",
            "2024-06-05 09:54:49 LOG INFO Class 1 = [1/383] = 0.26%\n",
            "2024-06-05 09:54:49 LOG INFO Class 2 = [9/231] = 3.90%\n",
            "2024-06-05 09:54:49 LOG INFO Class 3 = [0/128] = 0.00%\n",
            "2024-06-05 09:54:49 LOG INFO Class 4 = [0/223] = 0.00%\n",
            "2024-06-05 09:54:49 LOG INFO Class 5 = [0/71] = 0.00%\n",
            "2024-06-05 09:54:49 LOG INFO Class 6 = [0/42] = 0.00%\n",
            "2024-06-05 09:54:49 LOG INFO Class 7 = [11/44] = 25.00%\n",
            "2024-06-05 09:54:49 LOG INFO Accuracy by averaging class accuracies (same weight for each class): 10.325172628051668%\n"
          ]
        }
      ]
    },
    {
      "cell_type": "markdown",
      "source": [
        "**5_dense_pretrained_D1_test**"
      ],
      "metadata": {
        "id": "hr4RMuEjKuL8"
      }
    },
    {
      "cell_type": "code",
      "source": [
        "%%bash\n",
        "\n",
        "cd aml23-ego\n",
        "\n",
        "#5_dense_pretrained_D1_test\n",
        "python save_feat_RGB_EK.py name=5_dense_pretrained\\\n",
        "  config=configs/I3D_save_feat.yaml \\\n",
        "  split=test \\\n",
        "  save.num_frames_per_clip.RGB=5 \\\n",
        "  save.dense_sampling.RGB=True"
      ],
      "metadata": {
        "colab": {
          "base_uri": "https://localhost:8080/"
        },
        "collapsed": true,
        "outputId": "f593234e-7cae-4a43-b213-54419d9c4527",
        "id": "uvzc-qsuKuL8"
      },
      "execution_count": null,
      "outputs": [
        {
          "output_type": "stream",
          "name": "stderr",
          "text": [
            "2024-06-04 09:14:45 LOG INFO Feature Extraction\n",
            "2024-06-04 09:14:45 LOG INFO Running with parameters: \n",
            "  action: save\n",
            "  name: 5_dense_finetuned\n",
            "  modality: ['RGB']\n",
            "  total_batch: 128\n",
            "  batch_size: 32\n",
            "  gpus: None\n",
            "  wandb_name: None\n",
            "  resume_from: None\n",
            "  logname: save_D1-D1.log\n",
            "  models_dir: saved_models/5_dense_finetuned/Jun04_09-14-41\n",
            "  train:\n",
            "    num_iter: 5000\n",
            "    lr_steps: 3000\n",
            "    eval_freq: 50\n",
            "    num_clips: 5\n",
            "    dense_sampling:\n",
            "      RGB: True\n",
            "    num_frames_per_clip:\n",
            "      RGB: 5\n",
            "  test:\n",
            "    num_clips: 5\n",
            "    dense_sampling:\n",
            "      RGB: True\n",
            "    num_frames_per_clip:\n",
            "      RGB: 5\n",
            "  dataset:\n",
            "    annotations_path: train_val\n",
            "    shift: D1-D1\n",
            "    workers: 4\n",
            "    stride: 2\n",
            "    resolution: 224\n",
            "    RGB:\n",
            "      data_path: ../ek_data/frames\n",
            "      tmpl: img_{:010d}.jpg\n",
            "      features_name: test_feat_kinetics\n",
            "    Event:\n",
            "      rgb4e: 6\n",
            "    num_classes: 8\n",
            "  models:\n",
            "    RGB:\n",
            "      model: I3D\n",
            "      normalize: False\n",
            "      kwargs:\n",
            "      lr_steps: 3000\n",
            "      lr: 0.01\n",
            "      sgd_momentum: 0.9\n",
            "      weight_decay: 1e-07\n",
            "      dropout: 0.5\n",
            "      resolution: 224\n",
            "      weight_i3d_rgb: ./pretrained_i3d/rgb_imagenet.pt\n",
            "  split: test\n",
            "  save:\n",
            "    num_clips: 5\n",
            "    dense_sampling:\n",
            "      RGB: True\n",
            "    num_frames_per_clip:\n",
            "      RGB: 5\n",
            "  config: configs/I3D_save_feat.yaml\n",
            "  experiment_dir: 5_dense_finetuned/Jun04_09-14-41\n",
            "  log_dir: TEST_RESULTS/5_dense_finetuned\n",
            "  logfile: TEST_RESULTS/5_dense_finetuned/save_D1-D1.log\n",
            "2024-06-04 09:14:46 LOG INFO Instantiating models per modality\n",
            "2024-06-04 09:14:46 LOG INFO I3D Net\tModality: RGB\n",
            "2024-06-04 09:14:46 LOG INFO Loading Kinetics weights I3D\n",
            "2024-06-04 09:14:46 LOG INFO  * Skipping Logits weight for 'logits.conv3d.weight'\n",
            "2024-06-04 09:14:46 LOG INFO  * Skipping Logits weight for 'logits.conv3d.bias'\n",
            "2024-06-04 09:14:46 LOG INFO Dataloader for D1-test with 435 samples generated\n",
            "/usr/local/lib/python3.10/dist-packages/torch/utils/data/dataloader.py:558: UserWarning: This DataLoader will create 4 worker processes in total. Our suggested max number of worker in current system is 2, which is smaller than what this DataLoader is going to create. Please be aware that excessive worker creation might get DataLoader running slow or even freeze, lower the worker number to avoid potential slowness/freeze if necessary.\n",
            "  warnings.warn(_create_warning_msg(\n",
            "/usr/local/lib/python3.10/dist-packages/torch/nn/modules/conv.py:605: UserWarning: Plan failed with a cudnnException: CUDNN_BACKEND_EXECUTION_PLAN_DESCRIPTOR: cudnnFinalize Descriptor Failed cudnn_status: CUDNN_STATUS_NOT_SUPPORTED (Triggered internally at ../aten/src/ATen/native/cudnn/Conv_v8.cpp:919.)\n",
            "  return F.conv3d(\n",
            "2024-06-04 09:15:01 LOG INFO [87/435] top1= 12.644% top5 = 71.264%\n",
            "2024-06-04 09:15:14 LOG INFO [174/435] top1= 12.644% top5 = 62.069%\n",
            "2024-06-04 09:15:27 LOG INFO [261/435] top1= 12.644% top5 = 63.218%\n",
            "2024-06-04 09:15:42 LOG INFO [348/435] top1= 13.793% top5 = 63.793%\n",
            "2024-06-04 09:15:55 LOG INFO [435/435] top1= 13.793% top5 = 65.057%\n",
            "2024-06-04 09:15:55 LOG INFO Final accuracy: top1 = 13.79%\ttop5 = 65.06%\n",
            "2024-06-04 09:15:55 LOG INFO Class 0 = [46/124] = 37.10%\n",
            "2024-06-04 09:15:55 LOG INFO Class 1 = [0/104] = 0.00%\n",
            "2024-06-04 09:15:55 LOG INFO Class 2 = [5/52] = 9.62%\n",
            "2024-06-04 09:15:55 LOG INFO Class 3 = [0/34] = 0.00%\n",
            "2024-06-04 09:15:55 LOG INFO Class 4 = [0/66] = 0.00%\n",
            "2024-06-04 09:15:55 LOG INFO Class 5 = [1/13] = 7.69%\n",
            "2024-06-04 09:15:55 LOG INFO Class 6 = [2/20] = 10.00%\n",
            "2024-06-04 09:15:55 LOG INFO Class 7 = [6/22] = 27.27%\n",
            "2024-06-04 09:15:55 LOG INFO Accuracy by averaging class accuracies (same weight for each class): 11.459649221745995%\n"
          ]
        }
      ]
    },
    {
      "cell_type": "markdown",
      "source": [
        "**5_uniform_pretrained_D1_train**"
      ],
      "metadata": {
        "id": "R1LgUscSKuL8"
      }
    },
    {
      "cell_type": "code",
      "source": [
        "%%bash\n",
        "\n",
        "cd aml23-ego\n",
        "\n",
        "#5_uniform_pretrained_D1_train\n",
        "python save_feat_RGB_EK.py name=5_uniform_pretrained \\\n",
        "  config=configs/I3D_save_feat.yaml \\\n",
        "  split=train \\\n",
        "  save.num_frames_per_clip.RGB=5 \\\n",
        "  save.dense_sampling.RGB=False"
      ],
      "metadata": {
        "colab": {
          "base_uri": "https://localhost:8080/"
        },
        "collapsed": true,
        "outputId": "cafcc1a8-6d12-42c6-e6dd-b9d6370b7adf",
        "id": "XMUr-PLPKuL8"
      },
      "execution_count": null,
      "outputs": [
        {
          "output_type": "stream",
          "name": "stderr",
          "text": [
            "2024-06-05 09:37:45 LOG INFO Feature Extraction\n",
            "2024-06-05 09:37:45 LOG INFO Running with parameters: \n",
            "  action: save\n",
            "  name: 5_uniform_pretrained\n",
            "  modality: ['RGB']\n",
            "  total_batch: 128\n",
            "  batch_size: 32\n",
            "  gpus: None\n",
            "  wandb_name: None\n",
            "  resume_from: None\n",
            "  logname: save_D1-D1.log\n",
            "  models_dir: saved_models/5_uniform_pretrained/Jun05_09-37-40\n",
            "  train:\n",
            "    num_iter: 5000\n",
            "    lr_steps: 3000\n",
            "    eval_freq: 50\n",
            "    num_clips: 1\n",
            "    dense_sampling:\n",
            "      RGB: True\n",
            "    num_frames_per_clip:\n",
            "      RGB: 10\n",
            "  test:\n",
            "    num_clips: 5\n",
            "    dense_sampling:\n",
            "      RGB: True\n",
            "    num_frames_per_clip:\n",
            "      RGB: 10\n",
            "  dataset:\n",
            "    annotations_path: train_val\n",
            "    shift: D1-D1\n",
            "    workers: 4\n",
            "    stride: 2\n",
            "    resolution: 224\n",
            "    num_classes: 8\n",
            "    RGB:\n",
            "      data_path: ../ek_data/frames\n",
            "      tmpl: img_{:010d}.jpg\n",
            "      features_name: test_feat_kinetics\n",
            "    Event:\n",
            "      rgb4e: 6\n",
            "  models:\n",
            "    RGB:\n",
            "      model: I3D\n",
            "      normalize: False\n",
            "      kwargs:\n",
            "      lr_steps: 3000\n",
            "      lr: 0.01\n",
            "      sgd_momentum: 0.9\n",
            "      weight_decay: 1e-07\n",
            "      dropout: 0.5\n",
            "      resolution: 224\n",
            "      weight_i3d_rgb: ./pretrained_i3d/rgb_imagenet.pt\n",
            "  split: train\n",
            "  save:\n",
            "    num_clips: 5\n",
            "    dense_sampling:\n",
            "      RGB: False\n",
            "    num_frames_per_clip:\n",
            "      RGB: 5\n",
            "  config: configs/I3D_save_feat.yaml\n",
            "  experiment_dir: 5_uniform_pretrained/Jun05_09-37-40\n",
            "  log_dir: TEST_RESULTS/5_uniform_pretrained\n",
            "  logfile: TEST_RESULTS/5_uniform_pretrained/save_D1-D1.log\n",
            "2024-06-05 09:37:45 LOG INFO Instantiating models per modality\n",
            "2024-06-05 09:37:45 LOG INFO I3D Net\tModality: RGB\n",
            "2024-06-05 09:37:45 LOG INFO Loading Kinetics weights I3D\n",
            "2024-06-05 09:37:45 LOG INFO  * Skipping Logits weight for 'logits.conv3d.weight'\n",
            "2024-06-05 09:37:45 LOG INFO  * Skipping Logits weight for 'logits.conv3d.bias'\n",
            "2024-06-05 09:37:45 LOG INFO Dataloader for D1-train with 1543 samples generated\n",
            "/usr/local/lib/python3.10/dist-packages/torch/utils/data/dataloader.py:558: UserWarning: This DataLoader will create 4 worker processes in total. Our suggested max number of worker in current system is 2, which is smaller than what this DataLoader is going to create. Please be aware that excessive worker creation might get DataLoader running slow or even freeze, lower the worker number to avoid potential slowness/freeze if necessary.\n",
            "  warnings.warn(_create_warning_msg(\n",
            "/usr/local/lib/python3.10/dist-packages/torch/nn/modules/conv.py:605: UserWarning: Plan failed with a cudnnException: CUDNN_BACKEND_EXECUTION_PLAN_DESCRIPTOR: cudnnFinalize Descriptor Failed cudnn_status: CUDNN_STATUS_NOT_SUPPORTED (Triggered internally at ../aten/src/ATen/native/cudnn/Conv_v8.cpp:919.)\n",
            "  return F.conv3d(\n",
            "2024-06-05 09:38:36 LOG INFO [308/1543] top1= 14.935% top5 = 73.701%\n",
            "2024-06-05 09:39:25 LOG INFO [616/1543] top1= 15.422% top5 = 67.857%\n",
            "2024-06-05 09:40:27 LOG INFO [924/1543] top1= 14.719% top5 = 68.723%\n",
            "2024-06-05 09:41:17 LOG INFO [1232/1543] top1= 14.205% top5 = 68.263%\n",
            "2024-06-05 09:42:18 LOG INFO [1540/1543] top1= 14.156% top5 = 67.792%\n",
            "2024-06-05 09:42:20 LOG INFO Final accuracy: top1 = 14.13%\ttop5 = 67.73%\n",
            "2024-06-05 09:42:20 LOG INFO Class 0 = [201/421] = 47.74%\n",
            "2024-06-05 09:42:20 LOG INFO Class 1 = [0/383] = 0.00%\n",
            "2024-06-05 09:42:20 LOG INFO Class 2 = [8/231] = 3.46%\n",
            "2024-06-05 09:42:20 LOG INFO Class 3 = [0/128] = 0.00%\n",
            "2024-06-05 09:42:20 LOG INFO Class 4 = [0/223] = 0.00%\n",
            "2024-06-05 09:42:20 LOG INFO Class 5 = [0/71] = 0.00%\n",
            "2024-06-05 09:42:20 LOG INFO Class 6 = [0/42] = 0.00%\n",
            "2024-06-05 09:42:20 LOG INFO Class 7 = [9/44] = 20.45%\n",
            "2024-06-05 09:42:20 LOG INFO Accuracy by averaging class accuracies (same weight for each class): 8.957652106405076%\n"
          ]
        }
      ]
    },
    {
      "cell_type": "markdown",
      "source": [
        "**5_uniform_pretrained_D1_test**"
      ],
      "metadata": {
        "id": "Zr_KJ5gsKuL8"
      }
    },
    {
      "cell_type": "code",
      "source": [
        "%%bash\n",
        "\n",
        "cd aml23-ego\n",
        "\n",
        "#5_uniform_pretrained_D1_train\n",
        "python save_feat_RGB_EK.py name=5_uniform_pretrained \\\n",
        "  config=configs/I3D_save_feat.yaml \\\n",
        "  split=test \\\n",
        "  save.num_frames_per_clip.RGB=5 \\\n",
        "  save.dense_sampling.RGB=False"
      ],
      "metadata": {
        "id": "flrg8hU-KuL9"
      },
      "execution_count": null,
      "outputs": []
    },
    {
      "cell_type": "markdown",
      "source": [
        "**10_dense_pretrained_D1_train**"
      ],
      "metadata": {
        "id": "biWNz5PWKuL9"
      }
    },
    {
      "cell_type": "code",
      "source": [
        "%%bash\n",
        "\n",
        "cd aml23-ego\n",
        "\n",
        "#10_dense_pretrained_D1_train\n",
        "python save_feat_RGB_EK.py name=10_dense_pretrained \\\n",
        "  config=configs/I3D_save_feat.yaml \\\n",
        "  split=train \\\n",
        "  save.num_frames_per_clip.RGB=10 \\\n",
        "  save.dense_sampling.RGB=True"
      ],
      "metadata": {
        "collapsed": true,
        "id": "lJ9hauRAKuL9"
      },
      "execution_count": null,
      "outputs": []
    },
    {
      "cell_type": "markdown",
      "source": [
        "**10_dense_pretrained_D1_test**"
      ],
      "metadata": {
        "id": "BwaFBW9nKuL9"
      }
    },
    {
      "cell_type": "code",
      "source": [
        "%%bash\n",
        "\n",
        "cd aml23-ego\n",
        "\n",
        "#10_dense_pretrained_D1_train\n",
        "python save_feat_RGB_EK.py name=10_dense_pretrained \\\n",
        "  config=configs/I3D_save_feat.yaml \\\n",
        "  split=test \\\n",
        "  save.num_frames_per_clip.RGB=10 \\\n",
        "  save.dense_sampling.RGB=True"
      ],
      "metadata": {
        "id": "eV7CZOGxKuL9"
      },
      "execution_count": null,
      "outputs": []
    },
    {
      "cell_type": "markdown",
      "source": [
        "**10_uniform_pretrained_D1_train**"
      ],
      "metadata": {
        "id": "VajPif9-KuL9"
      }
    },
    {
      "cell_type": "code",
      "source": [
        "%%bash\n",
        "\n",
        "cd aml23-ego\n",
        "\n",
        "#10_uniform_pretrained_D1_train\n",
        "python save_feat_RGB_EK.py name=10_uniform_pretrained \\\n",
        "  config=configs/I3D_save_feat.yaml \\\n",
        "  split=train \\\n",
        "  save.num_frames_per_clip.RGB=10 \\\n",
        "  save.dense_sampling.RGB=False"
      ],
      "metadata": {
        "colab": {
          "base_uri": "https://localhost:8080/"
        },
        "collapsed": true,
        "outputId": "41521446-6e98-46a0-c909-ab232aeef18d",
        "id": "Oav-4rBUKuL9"
      },
      "execution_count": null,
      "outputs": [
        {
          "output_type": "stream",
          "name": "stderr",
          "text": [
            "2024-06-04 09:47:44 LOG INFO Feature Extraction\n",
            "2024-06-04 09:47:44 LOG INFO Running with parameters: \n",
            "  action: save\n",
            "  name: 10_uniform_finetuned\n",
            "  modality: ['RGB']\n",
            "  total_batch: 128\n",
            "  batch_size: 32\n",
            "  gpus: None\n",
            "  wandb_name: None\n",
            "  resume_from: None\n",
            "  logname: save_D1-D1.log\n",
            "  models_dir: saved_models/10_uniform_finetuned/Jun04_09-47-41\n",
            "  train:\n",
            "    num_iter: 5000\n",
            "    lr_steps: 3000\n",
            "    eval_freq: 50\n",
            "    num_clips: 5\n",
            "    dense_sampling:\n",
            "      RGB: True\n",
            "    num_frames_per_clip:\n",
            "      RGB: 5\n",
            "  test:\n",
            "    num_clips: 5\n",
            "    dense_sampling:\n",
            "      RGB: True\n",
            "    num_frames_per_clip:\n",
            "      RGB: 5\n",
            "  dataset:\n",
            "    annotations_path: train_val\n",
            "    shift: D1-D1\n",
            "    workers: 4\n",
            "    stride: 2\n",
            "    resolution: 224\n",
            "    RGB:\n",
            "      data_path: ../ek_data/frames\n",
            "      tmpl: img_{:010d}.jpg\n",
            "      features_name: test_feat_kinetics\n",
            "    Event:\n",
            "      rgb4e: 6\n",
            "    num_classes: 8\n",
            "  models:\n",
            "    RGB:\n",
            "      model: I3D\n",
            "      normalize: False\n",
            "      kwargs:\n",
            "      lr_steps: 3000\n",
            "      lr: 0.01\n",
            "      sgd_momentum: 0.9\n",
            "      weight_decay: 1e-07\n",
            "      dropout: 0.5\n",
            "      resolution: 224\n",
            "      weight_i3d_rgb: ./pretrained_i3d/rgb_imagenet.pt\n",
            "  split: train\n",
            "  save:\n",
            "    num_clips: 5\n",
            "    dense_sampling:\n",
            "      RGB: False\n",
            "    num_frames_per_clip:\n",
            "      RGB: 10\n",
            "  config: configs/I3D_save_feat.yaml\n",
            "  experiment_dir: 10_uniform_finetuned/Jun04_09-47-41\n",
            "  log_dir: TEST_RESULTS/10_uniform_finetuned\n",
            "  logfile: TEST_RESULTS/10_uniform_finetuned/save_D1-D1.log\n",
            "2024-06-04 09:47:45 LOG INFO Instantiating models per modality\n",
            "2024-06-04 09:47:45 LOG INFO I3D Net\tModality: RGB\n",
            "2024-06-04 09:47:45 LOG INFO Loading Kinetics weights I3D\n",
            "2024-06-04 09:47:45 LOG INFO  * Skipping Logits weight for 'logits.conv3d.weight'\n",
            "2024-06-04 09:47:45 LOG INFO  * Skipping Logits weight for 'logits.conv3d.bias'\n",
            "2024-06-04 09:47:45 LOG INFO Dataloader for D1-train with 1543 samples generated\n",
            "/usr/local/lib/python3.10/dist-packages/torch/utils/data/dataloader.py:558: UserWarning: This DataLoader will create 4 worker processes in total. Our suggested max number of worker in current system is 2, which is smaller than what this DataLoader is going to create. Please be aware that excessive worker creation might get DataLoader running slow or even freeze, lower the worker number to avoid potential slowness/freeze if necessary.\n",
            "  warnings.warn(_create_warning_msg(\n",
            "/usr/local/lib/python3.10/dist-packages/torch/nn/modules/conv.py:605: UserWarning: Plan failed with a cudnnException: CUDNN_BACKEND_EXECUTION_PLAN_DESCRIPTOR: cudnnFinalize Descriptor Failed cudnn_status: CUDNN_STATUS_NOT_SUPPORTED (Triggered internally at ../aten/src/ATen/native/cudnn/Conv_v8.cpp:919.)\n",
            "  return F.conv3d(\n",
            "2024-06-04 09:49:13 LOG INFO [308/1543] top1= 14.610% top5 = 65.584%\n",
            "2024-06-04 09:50:35 LOG INFO [616/1543] top1= 14.935% top5 = 62.987%\n",
            "2024-06-04 09:52:01 LOG INFO [924/1543] top1= 13.853% top5 = 62.338%\n",
            "2024-06-04 09:53:27 LOG INFO [1232/1543] top1= 12.906% top5 = 62.013%\n",
            "2024-06-04 09:54:53 LOG INFO [1540/1543] top1= 13.636% top5 = 61.883%\n",
            "2024-06-04 09:54:53 LOG INFO Final accuracy: top1 = 13.61%\ttop5 = 61.83%\n",
            "2024-06-04 09:54:53 LOG INFO Class 0 = [161/421] = 38.24%\n",
            "2024-06-04 09:54:53 LOG INFO Class 1 = [0/383] = 0.00%\n",
            "2024-06-04 09:54:53 LOG INFO Class 2 = [37/231] = 16.02%\n",
            "2024-06-04 09:54:53 LOG INFO Class 3 = [0/128] = 0.00%\n",
            "2024-06-04 09:54:53 LOG INFO Class 4 = [2/223] = 0.90%\n",
            "2024-06-04 09:54:53 LOG INFO Class 5 = [0/71] = 0.00%\n",
            "2024-06-04 09:54:53 LOG INFO Class 6 = [0/42] = 0.00%\n",
            "2024-06-04 09:54:53 LOG INFO Class 7 = [10/44] = 22.73%\n",
            "2024-06-04 09:54:53 LOG INFO Accuracy by averaging class accuracies (same weight for each class): 9.735466252021432%\n"
          ]
        }
      ]
    },
    {
      "cell_type": "markdown",
      "source": [
        "**10_uniform_pretrained_D1_test**"
      ],
      "metadata": {
        "id": "7GkhT2H1KuL9"
      }
    },
    {
      "cell_type": "code",
      "source": [
        "%%bash\n",
        "\n",
        "cd aml23-ego\n",
        "\n",
        "#10_uniform_pretrained_D1_train\n",
        "python save_feat_RGB_EK.py name=10_uniform_pretrained \\\n",
        "  config=configs/I3D_save_feat.yaml \\\n",
        "  split=test \\\n",
        "  save.num_frames_per_clip.RGB=10 \\\n",
        "  save.dense_sampling.RGB=False"
      ],
      "metadata": {
        "id": "YtyRBSIEKuL9"
      },
      "execution_count": null,
      "outputs": []
    },
    {
      "cell_type": "markdown",
      "source": [
        "**25_dense_pretrained_D1_train**"
      ],
      "metadata": {
        "id": "_Htacv9SKuL9"
      }
    },
    {
      "cell_type": "code",
      "source": [
        "%%bash\n",
        "\n",
        "cd aml23-ego\n",
        "\n",
        "#25_dense_pretrained_D1_train\n",
        "python save_feat_RGB_EK.py name=25_dense_pretrained \\\n",
        "  config=configs/I3D_save_feat.yaml \\\n",
        "  split=train \\\n",
        "  save.num_frames_per_clip.RGB=25 \\\n",
        "  save.dense_sampling.RGB=True"
      ],
      "metadata": {
        "colab": {
          "base_uri": "https://localhost:8080/"
        },
        "collapsed": true,
        "outputId": "2bf9557b-0db9-4644-ba37-52d7fbe963a9",
        "id": "FpjssdRRKuL-"
      },
      "execution_count": null,
      "outputs": [
        {
          "output_type": "stream",
          "name": "stderr",
          "text": [
            "2024-06-04 09:58:19 LOG INFO Feature Extraction\n",
            "2024-06-04 09:58:19 LOG INFO Running with parameters: \n",
            "  action: save\n",
            "  name: 25_dense_finetuned\n",
            "  modality: ['RGB']\n",
            "  total_batch: 128\n",
            "  batch_size: 32\n",
            "  gpus: None\n",
            "  wandb_name: None\n",
            "  resume_from: None\n",
            "  logname: save_D1-D1.log\n",
            "  models_dir: saved_models/25_dense_finetuned/Jun04_09-58-16\n",
            "  train:\n",
            "    num_iter: 5000\n",
            "    lr_steps: 3000\n",
            "    eval_freq: 50\n",
            "    num_clips: 5\n",
            "    dense_sampling:\n",
            "      RGB: True\n",
            "    num_frames_per_clip:\n",
            "      RGB: 5\n",
            "  test:\n",
            "    num_clips: 5\n",
            "    dense_sampling:\n",
            "      RGB: True\n",
            "    num_frames_per_clip:\n",
            "      RGB: 5\n",
            "  dataset:\n",
            "    annotations_path: train_val\n",
            "    shift: D1-D1\n",
            "    workers: 4\n",
            "    stride: 2\n",
            "    resolution: 224\n",
            "    RGB:\n",
            "      data_path: ../ek_data/frames\n",
            "      tmpl: img_{:010d}.jpg\n",
            "      features_name: test_feat_kinetics\n",
            "    Event:\n",
            "      rgb4e: 6\n",
            "    num_classes: 8\n",
            "  models:\n",
            "    RGB:\n",
            "      model: I3D\n",
            "      normalize: False\n",
            "      kwargs:\n",
            "      lr_steps: 3000\n",
            "      lr: 0.01\n",
            "      sgd_momentum: 0.9\n",
            "      weight_decay: 1e-07\n",
            "      dropout: 0.5\n",
            "      resolution: 224\n",
            "      weight_i3d_rgb: ./pretrained_i3d/rgb_imagenet.pt\n",
            "  split: train\n",
            "  save:\n",
            "    num_clips: 5\n",
            "    dense_sampling:\n",
            "      RGB: True\n",
            "    num_frames_per_clip:\n",
            "      RGB: 25\n",
            "  config: configs/I3D_save_feat.yaml\n",
            "  experiment_dir: 25_dense_finetuned/Jun04_09-58-16\n",
            "  log_dir: TEST_RESULTS/25_dense_finetuned\n",
            "  logfile: TEST_RESULTS/25_dense_finetuned/save_D1-D1.log\n",
            "2024-06-04 09:58:19 LOG INFO Instantiating models per modality\n",
            "2024-06-04 09:58:19 LOG INFO I3D Net\tModality: RGB\n",
            "2024-06-04 09:58:19 LOG INFO Loading Kinetics weights I3D\n",
            "2024-06-04 09:58:19 LOG INFO  * Skipping Logits weight for 'logits.conv3d.weight'\n",
            "2024-06-04 09:58:19 LOG INFO  * Skipping Logits weight for 'logits.conv3d.bias'\n",
            "2024-06-04 09:58:20 LOG INFO Dataloader for D1-train with 1543 samples generated\n",
            "/usr/local/lib/python3.10/dist-packages/torch/utils/data/dataloader.py:558: UserWarning: This DataLoader will create 4 worker processes in total. Our suggested max number of worker in current system is 2, which is smaller than what this DataLoader is going to create. Please be aware that excessive worker creation might get DataLoader running slow or even freeze, lower the worker number to avoid potential slowness/freeze if necessary.\n",
            "  warnings.warn(_create_warning_msg(\n",
            "/usr/local/lib/python3.10/dist-packages/torch/nn/modules/conv.py:605: UserWarning: Plan failed with a cudnnException: CUDNN_BACKEND_EXECUTION_PLAN_DESCRIPTOR: cudnnFinalize Descriptor Failed cudnn_status: CUDNN_STATUS_NOT_SUPPORTED (Triggered internally at ../aten/src/ATen/native/cudnn/Conv_v8.cpp:919.)\n",
            "  return F.conv3d(\n",
            "2024-06-04 10:02:42 LOG INFO [308/1543] top1= 12.987% top5 = 62.662%\n",
            "2024-06-04 10:07:06 LOG INFO [616/1543] top1= 12.175% top5 = 61.039%\n",
            "2024-06-04 10:11:07 LOG INFO [924/1543] top1= 10.823% top5 = 60.498%\n",
            "2024-06-04 10:15:07 LOG INFO [1232/1543] top1= 9.903% top5 = 60.308%\n",
            "2024-06-04 10:19:15 LOG INFO [1540/1543] top1= 10.390% top5 = 59.805%\n",
            "2024-06-04 10:19:15 LOG INFO Final accuracy: top1 = 10.37%\ttop5 = 59.75%\n",
            "2024-06-04 10:19:15 LOG INFO Class 0 = [124/421] = 29.45%\n",
            "2024-06-04 10:19:15 LOG INFO Class 1 = [0/383] = 0.00%\n",
            "2024-06-04 10:19:15 LOG INFO Class 2 = [19/231] = 8.23%\n",
            "2024-06-04 10:19:15 LOG INFO Class 3 = [0/128] = 0.00%\n",
            "2024-06-04 10:19:15 LOG INFO Class 4 = [3/223] = 1.35%\n",
            "2024-06-04 10:19:15 LOG INFO Class 5 = [0/71] = 0.00%\n",
            "2024-06-04 10:19:15 LOG INFO Class 6 = [0/42] = 0.00%\n",
            "2024-06-04 10:19:15 LOG INFO Class 7 = [14/44] = 31.82%\n",
            "2024-06-04 10:19:15 LOG INFO Accuracy by averaging class accuracies (same weight for each class): 8.855282904165556%\n"
          ]
        }
      ]
    },
    {
      "cell_type": "markdown",
      "source": [
        "**25_dense_pretrained_D1_test**"
      ],
      "metadata": {
        "id": "ZvjOfQyOKuL-"
      }
    },
    {
      "cell_type": "code",
      "source": [
        "%%bash\n",
        "\n",
        "cd aml23-ego\n",
        "\n",
        "#25_dense_pretrained_D1_train\n",
        "python save_feat_RGB_EK.py name=25_dense_pretrained \\\n",
        "  config=configs/I3D_save_feat.yaml \\\n",
        "  split=test \\\n",
        "  save.num_frames_per_clip.RGB=25 \\\n",
        "  save.dense_sampling.RGB=True"
      ],
      "metadata": {
        "id": "dBsdZZgeKuL-"
      },
      "execution_count": null,
      "outputs": []
    },
    {
      "cell_type": "markdown",
      "source": [
        "**25_uniform_pretrained_D1_train**"
      ],
      "metadata": {
        "id": "hkeAk-u3KuL-"
      }
    },
    {
      "cell_type": "code",
      "source": [
        "%%bash\n",
        "\n",
        "cd aml23-ego\n",
        "\n",
        "#25_uniform_pretrained_D1_train\n",
        "python save_feat_RGB_EK.py name=25_uniform_pretrained \\\n",
        "  config=configs/I3D_save_feat.yaml \\\n",
        "  split=train \\\n",
        "  save.num_frames_per_clip.RGB=25 \\\n",
        "  save.dense_sampling.RGB=False"
      ],
      "metadata": {
        "colab": {
          "base_uri": "https://localhost:8080/"
        },
        "collapsed": true,
        "outputId": "eda2b5e5-00ff-49c9-f735-07a3a70ebd0f",
        "id": "B8CeLuCJKuL-"
      },
      "execution_count": null,
      "outputs": [
        {
          "output_type": "stream",
          "name": "stderr",
          "text": [
            "2024-06-04 10:21:48 LOG INFO Feature Extraction\n",
            "2024-06-04 10:21:48 LOG INFO Running with parameters: \n",
            "  action: save\n",
            "  name: 25_uniform_finetuned\n",
            "  modality: ['RGB']\n",
            "  total_batch: 128\n",
            "  batch_size: 32\n",
            "  gpus: None\n",
            "  wandb_name: None\n",
            "  resume_from: None\n",
            "  logname: save_D1-D1.log\n",
            "  models_dir: saved_models/25_uniform_finetuned/Jun04_10-21-45\n",
            "  train:\n",
            "    num_iter: 5000\n",
            "    lr_steps: 3000\n",
            "    eval_freq: 50\n",
            "    num_clips: 5\n",
            "    dense_sampling:\n",
            "      RGB: True\n",
            "    num_frames_per_clip:\n",
            "      RGB: 5\n",
            "  test:\n",
            "    num_clips: 5\n",
            "    dense_sampling:\n",
            "      RGB: True\n",
            "    num_frames_per_clip:\n",
            "      RGB: 5\n",
            "  dataset:\n",
            "    annotations_path: train_val\n",
            "    shift: D1-D1\n",
            "    workers: 4\n",
            "    stride: 2\n",
            "    resolution: 224\n",
            "    RGB:\n",
            "      data_path: ../ek_data/frames\n",
            "      tmpl: img_{:010d}.jpg\n",
            "      features_name: test_feat_kinetics\n",
            "    Event:\n",
            "      rgb4e: 6\n",
            "    num_classes: 8\n",
            "  models:\n",
            "    RGB:\n",
            "      model: I3D\n",
            "      normalize: False\n",
            "      kwargs:\n",
            "      lr_steps: 3000\n",
            "      lr: 0.01\n",
            "      sgd_momentum: 0.9\n",
            "      weight_decay: 1e-07\n",
            "      dropout: 0.5\n",
            "      resolution: 224\n",
            "      weight_i3d_rgb: ./pretrained_i3d/rgb_imagenet.pt\n",
            "  split: train\n",
            "  save:\n",
            "    num_clips: 5\n",
            "    dense_sampling:\n",
            "      RGB: False\n",
            "    num_frames_per_clip:\n",
            "      RGB: 25\n",
            "  config: configs/I3D_save_feat.yaml\n",
            "  experiment_dir: 25_uniform_finetuned/Jun04_10-21-45\n",
            "  log_dir: TEST_RESULTS/25_uniform_finetuned\n",
            "  logfile: TEST_RESULTS/25_uniform_finetuned/save_D1-D1.log\n",
            "2024-06-04 10:21:48 LOG INFO Instantiating models per modality\n",
            "2024-06-04 10:21:48 LOG INFO I3D Net\tModality: RGB\n",
            "2024-06-04 10:21:49 LOG INFO Loading Kinetics weights I3D\n",
            "2024-06-04 10:21:49 LOG INFO  * Skipping Logits weight for 'logits.conv3d.weight'\n",
            "2024-06-04 10:21:49 LOG INFO  * Skipping Logits weight for 'logits.conv3d.bias'\n",
            "2024-06-04 10:21:49 LOG INFO Dataloader for D1-train with 1543 samples generated\n",
            "/usr/local/lib/python3.10/dist-packages/torch/utils/data/dataloader.py:558: UserWarning: This DataLoader will create 4 worker processes in total. Our suggested max number of worker in current system is 2, which is smaller than what this DataLoader is going to create. Please be aware that excessive worker creation might get DataLoader running slow or even freeze, lower the worker number to avoid potential slowness/freeze if necessary.\n",
            "  warnings.warn(_create_warning_msg(\n",
            "/usr/local/lib/python3.10/dist-packages/torch/nn/modules/conv.py:605: UserWarning: Plan failed with a cudnnException: CUDNN_BACKEND_EXECUTION_PLAN_DESCRIPTOR: cudnnFinalize Descriptor Failed cudnn_status: CUDNN_STATUS_NOT_SUPPORTED (Triggered internally at ../aten/src/ATen/native/cudnn/Conv_v8.cpp:919.)\n",
            "  return F.conv3d(\n",
            "2024-06-04 10:26:19 LOG INFO [308/1543] top1= 12.013% top5 = 63.636%\n",
            "2024-06-04 10:30:41 LOG INFO [616/1543] top1= 11.364% top5 = 60.552%\n",
            "2024-06-04 10:35:02 LOG INFO [924/1543] top1= 10.281% top5 = 60.498%\n",
            "2024-06-04 10:39:24 LOG INFO [1232/1543] top1= 9.091% top5 = 59.984%\n",
            "2024-06-04 10:43:46 LOG INFO [1540/1543] top1= 9.740% top5 = 59.740%\n",
            "2024-06-04 10:43:47 LOG INFO Final accuracy: top1 = 9.72%\ttop5 = 59.75%\n",
            "2024-06-04 10:43:47 LOG INFO Class 0 = [120/421] = 28.50%\n",
            "2024-06-04 10:43:47 LOG INFO Class 1 = [0/383] = 0.00%\n",
            "2024-06-04 10:43:47 LOG INFO Class 2 = [11/231] = 4.76%\n",
            "2024-06-04 10:43:47 LOG INFO Class 3 = [0/128] = 0.00%\n",
            "2024-06-04 10:43:47 LOG INFO Class 4 = [4/223] = 1.79%\n",
            "2024-06-04 10:43:47 LOG INFO Class 5 = [0/71] = 0.00%\n",
            "2024-06-04 10:43:47 LOG INFO Class 6 = [0/42] = 0.00%\n",
            "2024-06-04 10:43:47 LOG INFO Class 7 = [15/44] = 34.09%\n",
            "2024-06-04 10:43:47 LOG INFO Accuracy by averaging class accuracies (same weight for each class): 8.643762346409524%\n"
          ]
        }
      ]
    },
    {
      "cell_type": "markdown",
      "source": [
        "**25_uniform_pretrained_D1_test**"
      ],
      "metadata": {
        "id": "X7oZGCNpKuL-"
      }
    },
    {
      "cell_type": "code",
      "source": [
        "#%%bash\n",
        "\n",
        "cd aml23-ego\n",
        "\n",
        "#25_uniform_pretrained_D1_train\n",
        "python save_feat_RGB_EK.py name=25_uniform_pretrained \\\n",
        "  config=configs/I3D_save_feat.yaml \\\n",
        "  split=test \\\n",
        "  save.num_frames_per_clip.RGB=25 \\"
      ],
      "metadata": {
        "id": "SOadMAZbKuL-"
      },
      "execution_count": null,
      "outputs": []
    },
    {
      "cell_type": "markdown",
      "source": [
        "**5_dense_finetuned_D1_train**"
      ],
      "metadata": {
        "id": "FMfz56iCoDBz"
      }
    },
    {
      "cell_type": "markdown",
      "source": [
        "done"
      ],
      "metadata": {
        "id": "YOZG2hX-bfTl"
      }
    },
    {
      "cell_type": "code",
      "source": [
        "%%bash\n",
        "\n",
        "cd aml23-ego\n",
        "\n",
        "##to use the pretrained network remove resume_from from\n",
        "#the configuration file\n",
        "\n",
        "#5_dense_finetuned_D1_train\n",
        "python save_feat_RGB_EK.py name=5_dense_finetuned \\\n",
        "  config=configs/I3D_save_feat.yaml \\\n",
        "  split=train \\\n",
        "  save.num_frames_per_clip.RGB=5 \\\n",
        "  save.dense_sampling.RGB=True"
      ],
      "metadata": {
        "colab": {
          "base_uri": "https://localhost:8080/"
        },
        "id": "gkuqFYocH5Kt",
        "outputId": "bc288911-52d9-4c7a-d78d-d9648d5ad178",
        "collapsed": true
      },
      "execution_count": null,
      "outputs": [
        {
          "output_type": "stream",
          "name": "stderr",
          "text": [
            "2024-06-07 15:02:47 LOG INFO Feature Extraction\n",
            "2024-06-07 15:02:47 LOG INFO Running with parameters: \n",
            "  action: save\n",
            "  name: 5_dense_finetuned\n",
            "  modality: ['RGB']\n",
            "  total_batch: 128\n",
            "  batch_size: 32\n",
            "  gpus: None\n",
            "  wandb_name: None\n",
            "  resume_from: ./saved_models/I3D_SourceOnlyD1\n",
            "  logname: save_D1-D1.log\n",
            "  models_dir: saved_models/5_dense_finetuned/Jun07_15-02-39\n",
            "  train:\n",
            "    num_iter: 5000\n",
            "    lr_steps: 3000\n",
            "    eval_freq: 50\n",
            "    num_clips: 5\n",
            "    dense_sampling:\n",
            "      RGB: True\n",
            "    num_frames_per_clip:\n",
            "      RGB: 5\n",
            "  test:\n",
            "    num_clips: 5\n",
            "    dense_sampling:\n",
            "      RGB: True\n",
            "    num_frames_per_clip:\n",
            "      RGB: 5\n",
            "  dataset:\n",
            "    annotations_path: train_val\n",
            "    shift: D1-D1\n",
            "    workers: 4\n",
            "    stride: 2\n",
            "    resolution: 224\n",
            "    RGB:\n",
            "      data_path: ../ek_data/frames\n",
            "      tmpl: img_{:010d}.jpg\n",
            "      features_name: test_feat_kinetics\n",
            "    Event:\n",
            "      rgb4e: 6\n",
            "    num_classes: 8\n",
            "  models:\n",
            "    RGB:\n",
            "      model: I3D\n",
            "      normalize: False\n",
            "      kwargs:\n",
            "      lr_steps: 3000\n",
            "      lr: 0.01\n",
            "      sgd_momentum: 0.9\n",
            "      weight_decay: 1e-07\n",
            "      dropout: 0.5\n",
            "      resolution: 224\n",
            "      weight_i3d_rgb: ./pretrained_i3d/rgb_imagenet.pt\n",
            "  split: train\n",
            "  save:\n",
            "    num_clips: 5\n",
            "    dense_sampling:\n",
            "      RGB: True\n",
            "    num_frames_per_clip:\n",
            "      RGB: 5\n",
            "  config: configs/I3D_save_feat.yaml\n",
            "  experiment_dir: 5_dense_finetuned/Jun07_15-02-39\n",
            "  log_dir: TEST_RESULTS/5_dense_finetuned\n",
            "  logfile: TEST_RESULTS/5_dense_finetuned/save_D1-D1.log\n",
            "2024-06-07 15:02:47 LOG INFO Instantiating models per modality\n",
            "2024-06-07 15:02:47 LOG INFO I3D Net\tModality: RGB\n",
            "2024-06-07 15:02:47 LOG INFO Loading Kinetics weights I3D\n",
            "2024-06-07 15:02:47 LOG INFO  * Skipping Logits weight for 'logits.conv3d.weight'\n",
            "2024-06-07 15:02:47 LOG INFO  * Skipping Logits weight for 'logits.conv3d.bias'\n",
            "2024-06-07 15:02:48 LOG INFO Restoring action-classifier for modality RGB from saved_models/I3D_SourceOnlyD1/Oct25_22-38-50/action-classifier_RGB_9.pth\n",
            "2024-06-07 15:02:48 LOG INFO RGB-Model for action-classifier restored at iter 4850.0\n",
            "Best accuracy on val: 59.54 at iter 4000.0\n",
            "Last accuracy on val: 58.85\n",
            "Last loss: 0.00\n",
            "2024-06-07 15:02:48 LOG INFO Dataloader for D1-train with 1543 samples generated\n",
            "/usr/local/lib/python3.10/dist-packages/torch/utils/data/dataloader.py:558: UserWarning: This DataLoader will create 4 worker processes in total. Our suggested max number of worker in current system is 2, which is smaller than what this DataLoader is going to create. Please be aware that excessive worker creation might get DataLoader running slow or even freeze, lower the worker number to avoid potential slowness/freeze if necessary.\n",
            "  warnings.warn(_create_warning_msg(\n",
            "/usr/local/lib/python3.10/dist-packages/torch/nn/modules/conv.py:605: UserWarning: Plan failed with a cudnnException: CUDNN_BACKEND_EXECUTION_PLAN_DESCRIPTOR: cudnnFinalize Descriptor Failed cudnn_status: CUDNN_STATUS_NOT_SUPPORTED (Triggered internally at ../aten/src/ATen/native/cudnn/Conv_v8.cpp:919.)\n",
            "  return F.conv3d(\n",
            "2024-06-07 15:03:41 LOG INFO [308/1543] top1= 81.818% top5 = 100.000%\n",
            "2024-06-07 15:04:32 LOG INFO [616/1543] top1= 80.844% top5 = 100.000%\n",
            "2024-06-07 15:05:23 LOG INFO [924/1543] top1= 81.061% top5 = 99.784%\n",
            "2024-06-07 15:06:17 LOG INFO [1232/1543] top1= 80.925% top5 = 99.838%\n",
            "2024-06-07 15:07:09 LOG INFO [1540/1543] top1= 81.234% top5 = 99.870%\n",
            "2024-06-07 15:07:09 LOG INFO Final accuracy: top1 = 81.27%\ttop5 = 99.87%\n",
            "2024-06-07 15:07:09 LOG INFO Class 0 = [303/421] = 71.97%\n",
            "2024-06-07 15:07:09 LOG INFO Class 1 = [354/383] = 92.43%\n",
            "2024-06-07 15:07:09 LOG INFO Class 2 = [167/231] = 72.29%\n",
            "2024-06-07 15:07:09 LOG INFO Class 3 = [100/128] = 78.12%\n",
            "2024-06-07 15:07:09 LOG INFO Class 4 = [199/223] = 89.24%\n",
            "2024-06-07 15:07:09 LOG INFO Class 5 = [57/71] = 80.28%\n",
            "2024-06-07 15:07:09 LOG INFO Class 6 = [37/42] = 88.10%\n",
            "2024-06-07 15:07:09 LOG INFO Class 7 = [37/44] = 84.09%\n",
            "2024-06-07 15:07:09 LOG INFO Accuracy by averaging class accuracies (same weight for each class): 82.06557158165933%\n"
          ]
        }
      ]
    },
    {
      "cell_type": "markdown",
      "source": [
        "**5_dense_finetuned_D1_test**"
      ],
      "metadata": {
        "id": "KURsR31DnvEL"
      }
    },
    {
      "cell_type": "markdown",
      "source": [
        "done"
      ],
      "metadata": {
        "id": "WUrxKSUXrMOe"
      }
    },
    {
      "cell_type": "code",
      "source": [
        "%%bash\n",
        "\n",
        "cd aml23-ego\n",
        "\n",
        "\n",
        "\n",
        "#5_dense_finetuned_D1_test\n",
        "python save_feat_RGB_EK.py name=5_dense_finetuned \\\n",
        "  config=configs/I3D_save_feat.yaml \\\n",
        "  split=test \\\n",
        "  save.num_frames_per_clip.RGB=5 \\\n",
        "  save.dense_sampling.RGB=True"
      ],
      "metadata": {
        "colab": {
          "base_uri": "https://localhost:8080/"
        },
        "collapsed": true,
        "id": "oo5WvWLdhyJP",
        "outputId": "0a0320c8-c20b-45d1-fd4a-f77c3eb0ae74"
      },
      "execution_count": null,
      "outputs": [
        {
          "output_type": "stream",
          "name": "stderr",
          "text": [
            "2024-06-06 12:55:18 LOG INFO Feature Extraction\n",
            "2024-06-06 12:55:18 LOG INFO Running with parameters: \n",
            "  action: save\n",
            "  name: 5_dense_finetuned\n",
            "  modality: ['RGB']\n",
            "  total_batch: 128\n",
            "  batch_size: 32\n",
            "  gpus: None\n",
            "  wandb_name: None\n",
            "  resume_from: ./saved_models/I3D_SourceOnlyD1\n",
            "  logname: save_D1-D1.log\n",
            "  models_dir: saved_models/5_dense_finetuned/Jun06_12-55-10\n",
            "  train:\n",
            "    num_iter: 5000\n",
            "    lr_steps: 3000\n",
            "    eval_freq: 50\n",
            "    num_clips: 5\n",
            "    dense_sampling:\n",
            "      RGB: True\n",
            "    num_frames_per_clip:\n",
            "      RGB: 5\n",
            "  test:\n",
            "    num_clips: 5\n",
            "    dense_sampling:\n",
            "      RGB: True\n",
            "    num_frames_per_clip:\n",
            "      RGB: 5\n",
            "  dataset:\n",
            "    annotations_path: train_val\n",
            "    shift: D1-D1\n",
            "    workers: 4\n",
            "    stride: 2\n",
            "    resolution: 224\n",
            "    RGB:\n",
            "      data_path: ../ek_data/frames\n",
            "      tmpl: img_{:010d}.jpg\n",
            "      features_name: test_feat_kinetics\n",
            "    Event:\n",
            "      rgb4e: 6\n",
            "    num_classes: 8\n",
            "  models:\n",
            "    RGB:\n",
            "      model: I3D\n",
            "      normalize: False\n",
            "      kwargs:\n",
            "      lr_steps: 3000\n",
            "      lr: 0.01\n",
            "      sgd_momentum: 0.9\n",
            "      weight_decay: 1e-07\n",
            "      dropout: 0.5\n",
            "      resolution: 224\n",
            "      weight_i3d_rgb: ./pretrained_i3d/rgb_imagenet.pt\n",
            "  split: test\n",
            "  save:\n",
            "    num_clips: 5\n",
            "    dense_sampling:\n",
            "      RGB: True\n",
            "    num_frames_per_clip:\n",
            "      RGB: 5\n",
            "  config: configs/I3D_save_feat.yaml\n",
            "  experiment_dir: 5_dense_finetuned/Jun06_12-55-10\n",
            "  log_dir: TEST_RESULTS/5_dense_finetuned\n",
            "  logfile: TEST_RESULTS/5_dense_finetuned/save_D1-D1.log\n",
            "2024-06-06 12:55:18 LOG INFO Instantiating models per modality\n",
            "2024-06-06 12:55:18 LOG INFO I3D Net\tModality: RGB\n",
            "2024-06-06 12:55:18 LOG INFO Loading Kinetics weights I3D\n",
            "2024-06-06 12:55:18 LOG INFO  * Skipping Logits weight for 'logits.conv3d.weight'\n",
            "2024-06-06 12:55:18 LOG INFO  * Skipping Logits weight for 'logits.conv3d.bias'\n",
            "2024-06-06 12:55:19 LOG INFO Restoring action-classifier for modality RGB from saved_models/I3D_SourceOnlyD1/Oct25_22-38-50/action-classifier_RGB_9.pth\n",
            "2024-06-06 12:55:19 LOG INFO RGB-Model for action-classifier restored at iter 4850.0\n",
            "Best accuracy on val: 59.54 at iter 4000.0\n",
            "Last accuracy on val: 58.85\n",
            "Last loss: 0.00\n",
            "2024-06-06 12:55:19 LOG INFO Dataloader for D1-test with 435 samples generated\n",
            "/usr/local/lib/python3.10/dist-packages/torch/utils/data/dataloader.py:558: UserWarning: This DataLoader will create 4 worker processes in total. Our suggested max number of worker in current system is 2, which is smaller than what this DataLoader is going to create. Please be aware that excessive worker creation might get DataLoader running slow or even freeze, lower the worker number to avoid potential slowness/freeze if necessary.\n",
            "  warnings.warn(_create_warning_msg(\n",
            "/usr/local/lib/python3.10/dist-packages/torch/nn/modules/conv.py:605: UserWarning: Plan failed with a cudnnException: CUDNN_BACKEND_EXECUTION_PLAN_DESCRIPTOR: cudnnFinalize Descriptor Failed cudnn_status: CUDNN_STATUS_NOT_SUPPORTED (Triggered internally at ../aten/src/ATen/native/cudnn/Conv_v8.cpp:919.)\n",
            "  return F.conv3d(\n",
            "2024-06-06 12:55:36 LOG INFO [87/435] top1= 59.770% top5 = 96.552%\n",
            "2024-06-06 12:55:51 LOG INFO [174/435] top1= 56.897% top5 = 97.701%\n",
            "2024-06-06 12:56:05 LOG INFO [261/435] top1= 54.023% top5 = 96.935%\n",
            "2024-06-06 12:56:20 LOG INFO [348/435] top1= 53.161% top5 = 96.264%\n",
            "2024-06-06 12:56:33 LOG INFO [435/435] top1= 51.954% top5 = 96.552%\n",
            "2024-06-06 12:56:34 LOG INFO Final accuracy: top1 = 51.95%\ttop5 = 96.55%\n",
            "2024-06-06 12:56:34 LOG INFO Class 0 = [38/124] = 30.65%\n",
            "2024-06-06 12:56:34 LOG INFO Class 1 = [75/104] = 72.12%\n",
            "2024-06-06 12:56:34 LOG INFO Class 2 = [21/52] = 40.38%\n",
            "2024-06-06 12:56:34 LOG INFO Class 3 = [15/34] = 44.12%\n",
            "2024-06-06 12:56:34 LOG INFO Class 4 = [51/66] = 77.27%\n",
            "2024-06-06 12:56:34 LOG INFO Class 5 = [8/13] = 61.54%\n",
            "2024-06-06 12:56:34 LOG INFO Class 6 = [13/20] = 65.00%\n",
            "2024-06-06 12:56:34 LOG INFO Class 7 = [5/22] = 22.73%\n",
            "2024-06-06 12:56:34 LOG INFO Accuracy by averaging class accuracies (same weight for each class): 51.725158735950956%\n"
          ]
        }
      ]
    },
    {
      "cell_type": "markdown",
      "source": [
        "**5_uniform_finetuned_D1_train**"
      ],
      "metadata": {
        "id": "mLJ5SjM3i2sm"
      }
    },
    {
      "cell_type": "markdown",
      "source": [
        "done"
      ],
      "metadata": {
        "id": "7n73C4umrCdK"
      }
    },
    {
      "cell_type": "code",
      "source": [
        "%%bash\n",
        "\n",
        "cd aml23-ego\n",
        "\n",
        "\n",
        "\n",
        "#5\n",
        "\n",
        "\n",
        "#5_uniform_finetuned_D1_train\n",
        "python save_feat_RGB_EK.py name=5_uniform_finetuned \\\n",
        "  config=configs/I3D_save_feat.yaml \\\n",
        "  split=train \\\n",
        "  save.num_frames_per_clip.RGB=5 \\\n",
        "  save.dense_sampling.RGB=False"
      ],
      "metadata": {
        "colab": {
          "base_uri": "https://localhost:8080/"
        },
        "collapsed": true,
        "id": "tjPCz049idfT",
        "outputId": "ab45f944-03be-4eab-8781-43b46cf70d31"
      },
      "execution_count": null,
      "outputs": [
        {
          "output_type": "stream",
          "name": "stderr",
          "text": [
            "2024-06-06 13:05:19 LOG INFO Feature Extraction\n",
            "2024-06-06 13:05:19 LOG INFO Running with parameters: \n",
            "  action: save\n",
            "  name: 5_uniform_finetuned\n",
            "  modality: ['RGB']\n",
            "  total_batch: 128\n",
            "  batch_size: 32\n",
            "  gpus: None\n",
            "  wandb_name: None\n",
            "  resume_from: ./saved_models/I3D_SourceOnlyD1\n",
            "  logname: save_D1-D1.log\n",
            "  models_dir: saved_models/5_uniform_finetuned/Jun06_13-05-15\n",
            "  train:\n",
            "    num_iter: 5000\n",
            "    lr_steps: 3000\n",
            "    eval_freq: 50\n",
            "    num_clips: 5\n",
            "    dense_sampling:\n",
            "      RGB: True\n",
            "    num_frames_per_clip:\n",
            "      RGB: 5\n",
            "  test:\n",
            "    num_clips: 5\n",
            "    dense_sampling:\n",
            "      RGB: True\n",
            "    num_frames_per_clip:\n",
            "      RGB: 5\n",
            "  dataset:\n",
            "    annotations_path: train_val\n",
            "    shift: D1-D1\n",
            "    workers: 4\n",
            "    stride: 2\n",
            "    resolution: 224\n",
            "    RGB:\n",
            "      data_path: ../ek_data/frames\n",
            "      tmpl: img_{:010d}.jpg\n",
            "      features_name: test_feat_kinetics\n",
            "    Event:\n",
            "      rgb4e: 6\n",
            "    num_classes: 8\n",
            "  models:\n",
            "    RGB:\n",
            "      model: I3D\n",
            "      normalize: False\n",
            "      kwargs:\n",
            "      lr_steps: 3000\n",
            "      lr: 0.01\n",
            "      sgd_momentum: 0.9\n",
            "      weight_decay: 1e-07\n",
            "      dropout: 0.5\n",
            "      resolution: 224\n",
            "      weight_i3d_rgb: ./pretrained_i3d/rgb_imagenet.pt\n",
            "  split: train\n",
            "  save:\n",
            "    num_clips: 5\n",
            "    dense_sampling:\n",
            "      RGB: False\n",
            "    num_frames_per_clip:\n",
            "      RGB: 5\n",
            "  config: configs/I3D_save_feat.yaml\n",
            "  experiment_dir: 5_uniform_finetuned/Jun06_13-05-15\n",
            "  log_dir: TEST_RESULTS/5_uniform_finetuned\n",
            "  logfile: TEST_RESULTS/5_uniform_finetuned/save_D1-D1.log\n",
            "2024-06-06 13:05:19 LOG INFO Instantiating models per modality\n",
            "2024-06-06 13:05:19 LOG INFO I3D Net\tModality: RGB\n",
            "2024-06-06 13:05:19 LOG INFO Loading Kinetics weights I3D\n",
            "2024-06-06 13:05:19 LOG INFO  * Skipping Logits weight for 'logits.conv3d.weight'\n",
            "2024-06-06 13:05:19 LOG INFO  * Skipping Logits weight for 'logits.conv3d.bias'\n",
            "2024-06-06 13:05:19 LOG INFO Restoring action-classifier for modality RGB from saved_models/I3D_SourceOnlyD1/Oct25_22-38-50/action-classifier_RGB_9.pth\n",
            "2024-06-06 13:05:19 LOG INFO RGB-Model for action-classifier restored at iter 4850.0\n",
            "Best accuracy on val: 59.54 at iter 4000.0\n",
            "Last accuracy on val: 58.85\n",
            "Last loss: 0.00\n",
            "2024-06-06 13:05:19 LOG INFO Dataloader for D1-train with 1543 samples generated\n",
            "/usr/local/lib/python3.10/dist-packages/torch/utils/data/dataloader.py:558: UserWarning: This DataLoader will create 4 worker processes in total. Our suggested max number of worker in current system is 2, which is smaller than what this DataLoader is going to create. Please be aware that excessive worker creation might get DataLoader running slow or even freeze, lower the worker number to avoid potential slowness/freeze if necessary.\n",
            "  warnings.warn(_create_warning_msg(\n",
            "/usr/local/lib/python3.10/dist-packages/torch/nn/modules/conv.py:605: UserWarning: Plan failed with a cudnnException: CUDNN_BACKEND_EXECUTION_PLAN_DESCRIPTOR: cudnnFinalize Descriptor Failed cudnn_status: CUDNN_STATUS_NOT_SUPPORTED (Triggered internally at ../aten/src/ATen/native/cudnn/Conv_v8.cpp:919.)\n",
            "  return F.conv3d(\n",
            "2024-06-06 13:06:14 LOG INFO [308/1543] top1= 75.649% top5 = 98.377%\n",
            "2024-06-06 13:07:07 LOG INFO [616/1543] top1= 75.162% top5 = 98.701%\n",
            "2024-06-06 13:07:59 LOG INFO [924/1543] top1= 75.216% top5 = 98.701%\n",
            "2024-06-06 13:08:50 LOG INFO [1232/1543] top1= 74.026% top5 = 98.864%\n",
            "2024-06-06 13:09:41 LOG INFO [1540/1543] top1= 74.221% top5 = 99.026%\n",
            "2024-06-06 13:09:41 LOG INFO Final accuracy: top1 = 74.21%\ttop5 = 99.03%\n",
            "2024-06-06 13:09:41 LOG INFO Class 0 = [308/421] = 73.16%\n",
            "2024-06-06 13:09:41 LOG INFO Class 1 = [335/383] = 87.47%\n",
            "2024-06-06 13:09:41 LOG INFO Class 2 = [152/231] = 65.80%\n",
            "2024-06-06 13:09:41 LOG INFO Class 3 = [88/128] = 68.75%\n",
            "2024-06-06 13:09:41 LOG INFO Class 4 = [191/223] = 85.65%\n",
            "2024-06-06 13:09:41 LOG INFO Class 5 = [28/71] = 39.44%\n",
            "2024-06-06 13:09:41 LOG INFO Class 6 = [23/42] = 54.76%\n",
            "2024-06-06 13:09:41 LOG INFO Class 7 = [20/44] = 45.45%\n",
            "2024-06-06 13:09:41 LOG INFO Accuracy by averaging class accuracies (same weight for each class): 65.06008347103327%\n"
          ]
        }
      ]
    },
    {
      "cell_type": "markdown",
      "source": [
        "**5_uniform_finetuned_D1_test**"
      ],
      "metadata": {
        "id": "2ZKeuooFoSXC"
      }
    },
    {
      "cell_type": "markdown",
      "source": [
        "done"
      ],
      "metadata": {
        "id": "o6P5a8ateQKx"
      }
    },
    {
      "cell_type": "code",
      "source": [
        "%%bash\n",
        "\n",
        "cd aml23-ego\n",
        "\n",
        "\n",
        "\n",
        "#5\n",
        "\n",
        "\n",
        "#5_uniform_finetuned_D1_train\n",
        "python save_feat_RGB_EK.py name=5_uniform_finetuned \\\n",
        "  config=configs/I3D_save_feat.yaml \\\n",
        "  split=test \\\n",
        "  save.num_frames_per_clip.RGB=5 \\\n",
        "  save.dense_sampling.RGB=False"
      ],
      "metadata": {
        "id": "3sQZ27MFoXzz",
        "collapsed": true,
        "colab": {
          "base_uri": "https://localhost:8080/"
        },
        "outputId": "59d0cfe3-a471-4781-ac98-7a7f47c2536f"
      },
      "execution_count": null,
      "outputs": [
        {
          "output_type": "stream",
          "name": "stderr",
          "text": [
            "2024-06-07 15:09:23 LOG INFO Feature Extraction\n",
            "2024-06-07 15:09:23 LOG INFO Running with parameters: \n",
            "  action: save\n",
            "  name: 5_uniform_finetuned\n",
            "  modality: ['RGB']\n",
            "  total_batch: 128\n",
            "  batch_size: 32\n",
            "  gpus: None\n",
            "  wandb_name: None\n",
            "  resume_from: ./saved_models/I3D_SourceOnlyD1\n",
            "  logname: save_D1-D1.log\n",
            "  models_dir: saved_models/5_uniform_finetuned/Jun07_15-09-20\n",
            "  train:\n",
            "    num_iter: 5000\n",
            "    lr_steps: 3000\n",
            "    eval_freq: 50\n",
            "    num_clips: 5\n",
            "    dense_sampling:\n",
            "      RGB: True\n",
            "    num_frames_per_clip:\n",
            "      RGB: 5\n",
            "  test:\n",
            "    num_clips: 5\n",
            "    dense_sampling:\n",
            "      RGB: True\n",
            "    num_frames_per_clip:\n",
            "      RGB: 5\n",
            "  dataset:\n",
            "    annotations_path: train_val\n",
            "    shift: D1-D1\n",
            "    workers: 4\n",
            "    stride: 2\n",
            "    resolution: 224\n",
            "    RGB:\n",
            "      data_path: ../ek_data/frames\n",
            "      tmpl: img_{:010d}.jpg\n",
            "      features_name: test_feat_kinetics\n",
            "    Event:\n",
            "      rgb4e: 6\n",
            "    num_classes: 8\n",
            "  models:\n",
            "    RGB:\n",
            "      model: I3D\n",
            "      normalize: False\n",
            "      kwargs:\n",
            "      lr_steps: 3000\n",
            "      lr: 0.01\n",
            "      sgd_momentum: 0.9\n",
            "      weight_decay: 1e-07\n",
            "      dropout: 0.5\n",
            "      resolution: 224\n",
            "      weight_i3d_rgb: ./pretrained_i3d/rgb_imagenet.pt\n",
            "  split: test\n",
            "  save:\n",
            "    num_clips: 5\n",
            "    dense_sampling:\n",
            "      RGB: False\n",
            "    num_frames_per_clip:\n",
            "      RGB: 5\n",
            "  config: configs/I3D_save_feat.yaml\n",
            "  experiment_dir: 5_uniform_finetuned/Jun07_15-09-20\n",
            "  log_dir: TEST_RESULTS/5_uniform_finetuned\n",
            "  logfile: TEST_RESULTS/5_uniform_finetuned/save_D1-D1.log\n",
            "2024-06-07 15:09:23 LOG INFO Instantiating models per modality\n",
            "2024-06-07 15:09:23 LOG INFO I3D Net\tModality: RGB\n",
            "2024-06-07 15:09:23 LOG INFO Loading Kinetics weights I3D\n",
            "2024-06-07 15:09:23 LOG INFO  * Skipping Logits weight for 'logits.conv3d.weight'\n",
            "2024-06-07 15:09:23 LOG INFO  * Skipping Logits weight for 'logits.conv3d.bias'\n",
            "2024-06-07 15:09:23 LOG INFO Restoring action-classifier for modality RGB from saved_models/I3D_SourceOnlyD1/Oct25_22-38-50/action-classifier_RGB_9.pth\n",
            "2024-06-07 15:09:24 LOG INFO RGB-Model for action-classifier restored at iter 4850.0\n",
            "Best accuracy on val: 59.54 at iter 4000.0\n",
            "Last accuracy on val: 58.85\n",
            "Last loss: 0.00\n",
            "2024-06-07 15:09:24 LOG INFO Dataloader for D1-test with 435 samples generated\n",
            "/usr/local/lib/python3.10/dist-packages/torch/utils/data/dataloader.py:558: UserWarning: This DataLoader will create 4 worker processes in total. Our suggested max number of worker in current system is 2, which is smaller than what this DataLoader is going to create. Please be aware that excessive worker creation might get DataLoader running slow or even freeze, lower the worker number to avoid potential slowness/freeze if necessary.\n",
            "  warnings.warn(_create_warning_msg(\n",
            "/usr/local/lib/python3.10/dist-packages/torch/nn/modules/conv.py:605: UserWarning: Plan failed with a cudnnException: CUDNN_BACKEND_EXECUTION_PLAN_DESCRIPTOR: cudnnFinalize Descriptor Failed cudnn_status: CUDNN_STATUS_NOT_SUPPORTED (Triggered internally at ../aten/src/ATen/native/cudnn/Conv_v8.cpp:919.)\n",
            "  return F.conv3d(\n",
            "2024-06-07 15:09:39 LOG INFO [87/435] top1= 49.425% top5 = 97.701%\n",
            "2024-06-07 15:09:54 LOG INFO [174/435] top1= 54.023% top5 = 97.701%\n",
            "2024-06-07 15:10:08 LOG INFO [261/435] top1= 50.192% top5 = 96.935%\n",
            "2024-06-07 15:10:22 LOG INFO [348/435] top1= 50.862% top5 = 96.264%\n",
            "2024-06-07 15:10:37 LOG INFO [435/435] top1= 48.966% top5 = 96.552%\n",
            "2024-06-07 15:10:37 LOG INFO Final accuracy: top1 = 48.97%\ttop5 = 96.55%\n",
            "2024-06-07 15:10:37 LOG INFO Class 0 = [45/124] = 36.29%\n",
            "2024-06-07 15:10:37 LOG INFO Class 1 = [78/104] = 75.00%\n",
            "2024-06-07 15:10:37 LOG INFO Class 2 = [21/52] = 40.38%\n",
            "2024-06-07 15:10:37 LOG INFO Class 3 = [12/34] = 35.29%\n",
            "2024-06-07 15:10:37 LOG INFO Class 4 = [44/66] = 66.67%\n",
            "2024-06-07 15:10:37 LOG INFO Class 5 = [3/13] = 23.08%\n",
            "2024-06-07 15:10:37 LOG INFO Class 6 = [9/20] = 45.00%\n",
            "2024-06-07 15:10:37 LOG INFO Class 7 = [1/22] = 4.55%\n",
            "2024-06-07 15:10:37 LOG INFO Accuracy by averaging class accuracies (same weight for each class): 40.78226248767046%\n"
          ]
        }
      ]
    },
    {
      "cell_type": "markdown",
      "source": [
        "**10_dense_finetuned_D1_train**"
      ],
      "metadata": {
        "id": "qqFrj1mqmjl5"
      }
    },
    {
      "cell_type": "markdown",
      "source": [
        "done"
      ],
      "metadata": {
        "id": "pofAhdfvslqm"
      }
    },
    {
      "cell_type": "code",
      "source": [
        "%%bash\n",
        "\n",
        "cd aml23-ego\n",
        "\n",
        "\n",
        "\n",
        "#10_dense_finetuned_D1_train\n",
        "python save_feat_RGB_EK.py name=10_dense_finetuned \\\n",
        "  config=configs/I3D_save_feat.yaml \\\n",
        "  split=train \\\n",
        "  save.num_frames_per_clip.RGB=10 \\\n",
        "  save.dense_sampling.RGB=True"
      ],
      "metadata": {
        "colab": {
          "base_uri": "https://localhost:8080/"
        },
        "collapsed": true,
        "id": "AhAgtCAsmdcl",
        "outputId": "6d33d62c-55e1-4449-f3c1-850f3427026c"
      },
      "execution_count": null,
      "outputs": [
        {
          "output_type": "stream",
          "name": "stderr",
          "text": [
            "2024-06-06 13:17:13 LOG INFO Feature Extraction\n",
            "2024-06-06 13:17:13 LOG INFO Running with parameters: \n",
            "  action: save\n",
            "  name: 10_dense_finetuned\n",
            "  modality: ['RGB']\n",
            "  total_batch: 128\n",
            "  batch_size: 32\n",
            "  gpus: None\n",
            "  wandb_name: None\n",
            "  resume_from: ./saved_models/I3D_SourceOnlyD1\n",
            "  logname: save_D1-D1.log\n",
            "  models_dir: saved_models/10_dense_finetuned/Jun06_13-17-09\n",
            "  train:\n",
            "    num_iter: 5000\n",
            "    lr_steps: 3000\n",
            "    eval_freq: 50\n",
            "    num_clips: 5\n",
            "    dense_sampling:\n",
            "      RGB: True\n",
            "    num_frames_per_clip:\n",
            "      RGB: 5\n",
            "  test:\n",
            "    num_clips: 5\n",
            "    dense_sampling:\n",
            "      RGB: True\n",
            "    num_frames_per_clip:\n",
            "      RGB: 5\n",
            "  dataset:\n",
            "    annotations_path: train_val\n",
            "    shift: D1-D1\n",
            "    workers: 4\n",
            "    stride: 2\n",
            "    resolution: 224\n",
            "    RGB:\n",
            "      data_path: ../ek_data/frames\n",
            "      tmpl: img_{:010d}.jpg\n",
            "      features_name: test_feat_kinetics\n",
            "    Event:\n",
            "      rgb4e: 6\n",
            "    num_classes: 8\n",
            "  models:\n",
            "    RGB:\n",
            "      model: I3D\n",
            "      normalize: False\n",
            "      kwargs:\n",
            "      lr_steps: 3000\n",
            "      lr: 0.01\n",
            "      sgd_momentum: 0.9\n",
            "      weight_decay: 1e-07\n",
            "      dropout: 0.5\n",
            "      resolution: 224\n",
            "      weight_i3d_rgb: ./pretrained_i3d/rgb_imagenet.pt\n",
            "  split: train\n",
            "  save:\n",
            "    num_clips: 5\n",
            "    dense_sampling:\n",
            "      RGB: True\n",
            "    num_frames_per_clip:\n",
            "      RGB: 10\n",
            "  config: configs/I3D_save_feat.yaml\n",
            "  experiment_dir: 10_dense_finetuned/Jun06_13-17-09\n",
            "  log_dir: TEST_RESULTS/10_dense_finetuned\n",
            "  logfile: TEST_RESULTS/10_dense_finetuned/save_D1-D1.log\n",
            "2024-06-06 13:17:13 LOG INFO Instantiating models per modality\n",
            "2024-06-06 13:17:13 LOG INFO I3D Net\tModality: RGB\n",
            "2024-06-06 13:17:13 LOG INFO Loading Kinetics weights I3D\n",
            "2024-06-06 13:17:13 LOG INFO  * Skipping Logits weight for 'logits.conv3d.weight'\n",
            "2024-06-06 13:17:13 LOG INFO  * Skipping Logits weight for 'logits.conv3d.bias'\n",
            "2024-06-06 13:17:13 LOG INFO Restoring action-classifier for modality RGB from saved_models/I3D_SourceOnlyD1/Oct25_22-38-50/action-classifier_RGB_9.pth\n",
            "2024-06-06 13:17:13 LOG INFO RGB-Model for action-classifier restored at iter 4850.0\n",
            "Best accuracy on val: 59.54 at iter 4000.0\n",
            "Last accuracy on val: 58.85\n",
            "Last loss: 0.00\n",
            "2024-06-06 13:17:13 LOG INFO Dataloader for D1-train with 1543 samples generated\n",
            "/usr/local/lib/python3.10/dist-packages/torch/utils/data/dataloader.py:558: UserWarning: This DataLoader will create 4 worker processes in total. Our suggested max number of worker in current system is 2, which is smaller than what this DataLoader is going to create. Please be aware that excessive worker creation might get DataLoader running slow or even freeze, lower the worker number to avoid potential slowness/freeze if necessary.\n",
            "  warnings.warn(_create_warning_msg(\n",
            "/usr/local/lib/python3.10/dist-packages/torch/nn/modules/conv.py:605: UserWarning: Plan failed with a cudnnException: CUDNN_BACKEND_EXECUTION_PLAN_DESCRIPTOR: cudnnFinalize Descriptor Failed cudnn_status: CUDNN_STATUS_NOT_SUPPORTED (Triggered internally at ../aten/src/ATen/native/cudnn/Conv_v8.cpp:919.)\n",
            "  return F.conv3d(\n",
            "2024-06-06 13:18:48 LOG INFO [308/1543] top1= 86.688% top5 = 100.000%\n",
            "2024-06-06 13:20:19 LOG INFO [616/1543] top1= 86.688% top5 = 100.000%\n",
            "2024-06-06 13:21:45 LOG INFO [924/1543] top1= 86.580% top5 = 100.000%\n",
            "2024-06-06 13:23:12 LOG INFO [1232/1543] top1= 86.039% top5 = 100.000%\n",
            "2024-06-06 13:24:40 LOG INFO [1540/1543] top1= 86.104% top5 = 100.000%\n",
            "2024-06-06 13:24:41 LOG INFO Final accuracy: top1 = 86.07%\ttop5 = 100.00%\n",
            "2024-06-06 13:24:41 LOG INFO Class 0 = [409/421] = 97.15%\n",
            "2024-06-06 13:24:41 LOG INFO Class 1 = [269/383] = 70.23%\n",
            "2024-06-06 13:24:41 LOG INFO Class 2 = [198/231] = 85.71%\n",
            "2024-06-06 13:24:41 LOG INFO Class 3 = [112/128] = 87.50%\n",
            "2024-06-06 13:24:41 LOG INFO Class 4 = [207/223] = 92.83%\n",
            "2024-06-06 13:24:41 LOG INFO Class 5 = [61/71] = 85.92%\n",
            "2024-06-06 13:24:41 LOG INFO Class 6 = [39/42] = 92.86%\n",
            "2024-06-06 13:24:41 LOG INFO Class 7 = [33/44] = 75.00%\n",
            "2024-06-06 13:24:41 LOG INFO Accuracy by averaging class accuracies (same weight for each class): 85.89958303592891%\n"
          ]
        }
      ]
    },
    {
      "cell_type": "markdown",
      "source": [
        "**10_dense_finetuned_D1_test**"
      ],
      "metadata": {
        "id": "gJl8Q-FSowzz"
      }
    },
    {
      "cell_type": "markdown",
      "source": [
        "done\n"
      ],
      "metadata": {
        "id": "e0CHSdOheR6v"
      }
    },
    {
      "cell_type": "code",
      "source": [
        "%%bash\n",
        "\n",
        "cd aml23-ego\n",
        "\n",
        "\n",
        "\n",
        "#10_dense_finetuned_D1_train\n",
        "python save_feat_RGB_EK.py name=10_dense_finetuned \\\n",
        "  config=configs/I3D_save_feat.yaml \\\n",
        "  split=test \\\n",
        "  save.num_frames_per_clip.RGB=10 \\\n",
        "  save.dense_sampling.RGB=True"
      ],
      "metadata": {
        "id": "CGc1Ug9Hoqr5",
        "colab": {
          "base_uri": "https://localhost:8080/"
        },
        "collapsed": true,
        "outputId": "7339ea3f-4d42-481f-84e5-bc017b62d631"
      },
      "execution_count": null,
      "outputs": [
        {
          "output_type": "stream",
          "name": "stderr",
          "text": [
            "2024-06-07 14:09:37 LOG INFO Feature Extraction\n",
            "2024-06-07 14:09:37 LOG INFO Running with parameters: \n",
            "  action: save\n",
            "  name: 10_dense_finetuned\n",
            "  modality: ['RGB']\n",
            "  total_batch: 128\n",
            "  batch_size: 32\n",
            "  gpus: None\n",
            "  wandb_name: None\n",
            "  resume_from: ./saved_models/I3D_SourceOnlyD1\n",
            "  logname: save_D1-D1.log\n",
            "  models_dir: saved_models/10_dense_finetuned/Jun07_14-09-34\n",
            "  train:\n",
            "    num_iter: 5000\n",
            "    lr_steps: 3000\n",
            "    eval_freq: 50\n",
            "    num_clips: 5\n",
            "    dense_sampling:\n",
            "      RGB: True\n",
            "    num_frames_per_clip:\n",
            "      RGB: 5\n",
            "  test:\n",
            "    num_clips: 5\n",
            "    dense_sampling:\n",
            "      RGB: True\n",
            "    num_frames_per_clip:\n",
            "      RGB: 5\n",
            "  dataset:\n",
            "    annotations_path: train_val\n",
            "    shift: D1-D1\n",
            "    workers: 4\n",
            "    stride: 2\n",
            "    resolution: 224\n",
            "    RGB:\n",
            "      data_path: ../ek_data/frames\n",
            "      tmpl: img_{:010d}.jpg\n",
            "      features_name: test_feat_kinetics\n",
            "    Event:\n",
            "      rgb4e: 6\n",
            "    num_classes: 8\n",
            "  models:\n",
            "    RGB:\n",
            "      model: I3D\n",
            "      normalize: False\n",
            "      kwargs:\n",
            "      lr_steps: 3000\n",
            "      lr: 0.01\n",
            "      sgd_momentum: 0.9\n",
            "      weight_decay: 1e-07\n",
            "      dropout: 0.5\n",
            "      resolution: 224\n",
            "      weight_i3d_rgb: ./pretrained_i3d/rgb_imagenet.pt\n",
            "  split: test\n",
            "  save:\n",
            "    num_clips: 5\n",
            "    dense_sampling:\n",
            "      RGB: True\n",
            "    num_frames_per_clip:\n",
            "      RGB: 10\n",
            "  config: configs/I3D_save_feat.yaml\n",
            "  experiment_dir: 10_dense_finetuned/Jun07_14-09-34\n",
            "  log_dir: TEST_RESULTS/10_dense_finetuned\n",
            "  logfile: TEST_RESULTS/10_dense_finetuned/save_D1-D1.log\n",
            "2024-06-07 14:09:37 LOG INFO Instantiating models per modality\n",
            "2024-06-07 14:09:37 LOG INFO I3D Net\tModality: RGB\n",
            "2024-06-07 14:09:37 LOG INFO Loading Kinetics weights I3D\n",
            "2024-06-07 14:09:37 LOG INFO  * Skipping Logits weight for 'logits.conv3d.weight'\n",
            "2024-06-07 14:09:37 LOG INFO  * Skipping Logits weight for 'logits.conv3d.bias'\n",
            "2024-06-07 14:09:38 LOG INFO Restoring action-classifier for modality RGB from saved_models/I3D_SourceOnlyD1/Oct25_22-38-50/action-classifier_RGB_9.pth\n",
            "2024-06-07 14:09:38 LOG INFO RGB-Model for action-classifier restored at iter 4850.0\n",
            "Best accuracy on val: 59.54 at iter 4000.0\n",
            "Last accuracy on val: 58.85\n",
            "Last loss: 0.00\n",
            "2024-06-07 14:09:38 LOG INFO Dataloader for D1-test with 435 samples generated\n",
            "/usr/local/lib/python3.10/dist-packages/torch/utils/data/dataloader.py:558: UserWarning: This DataLoader will create 4 worker processes in total. Our suggested max number of worker in current system is 2, which is smaller than what this DataLoader is going to create. Please be aware that excessive worker creation might get DataLoader running slow or even freeze, lower the worker number to avoid potential slowness/freeze if necessary.\n",
            "  warnings.warn(_create_warning_msg(\n",
            "/usr/local/lib/python3.10/dist-packages/torch/nn/modules/conv.py:605: UserWarning: Plan failed with a cudnnException: CUDNN_BACKEND_EXECUTION_PLAN_DESCRIPTOR: cudnnFinalize Descriptor Failed cudnn_status: CUDNN_STATUS_NOT_SUPPORTED (Triggered internally at ../aten/src/ATen/native/cudnn/Conv_v8.cpp:919.)\n",
            "  return F.conv3d(\n",
            "2024-06-07 14:10:03 LOG INFO [87/435] top1= 62.069% top5 = 96.552%\n",
            "2024-06-07 14:10:26 LOG INFO [174/435] top1= 59.195% top5 = 97.126%\n",
            "2024-06-07 14:10:49 LOG INFO [261/435] top1= 57.854% top5 = 97.701%\n",
            "2024-06-07 14:11:13 LOG INFO [348/435] top1= 57.184% top5 = 96.552%\n",
            "2024-06-07 14:11:34 LOG INFO [435/435] top1= 55.632% top5 = 97.241%\n",
            "2024-06-07 14:11:34 LOG INFO Final accuracy: top1 = 55.63%\ttop5 = 97.24%\n",
            "2024-06-07 14:11:34 LOG INFO Class 0 = [84/124] = 67.74%\n",
            "2024-06-07 14:11:34 LOG INFO Class 1 = [47/104] = 45.19%\n",
            "2024-06-07 14:11:34 LOG INFO Class 2 = [30/52] = 57.69%\n",
            "2024-06-07 14:11:34 LOG INFO Class 3 = [14/34] = 41.18%\n",
            "2024-06-07 14:11:34 LOG INFO Class 4 = [47/66] = 71.21%\n",
            "2024-06-07 14:11:34 LOG INFO Class 5 = [8/13] = 61.54%\n",
            "2024-06-07 14:11:34 LOG INFO Class 6 = [8/20] = 40.00%\n",
            "2024-06-07 14:11:34 LOG INFO Class 7 = [4/22] = 18.18%\n",
            "2024-06-07 14:11:34 LOG INFO Accuracy by averaging class accuracies (same weight for each class): 50.34192779864033%\n"
          ]
        }
      ]
    },
    {
      "cell_type": "markdown",
      "source": [
        "**10_uniform_finetuned_D1_train**"
      ],
      "metadata": {
        "id": "ErD-ITsBo2cY"
      }
    },
    {
      "cell_type": "markdown",
      "source": [
        "done"
      ],
      "metadata": {
        "id": "ShwZt4Vmu1UJ"
      }
    },
    {
      "cell_type": "code",
      "source": [
        "%%bash\n",
        "\n",
        "cd aml23-ego\n",
        "\n",
        "#10_uniform_finetuned_D1_train\n",
        "python save_feat_RGB_EK.py name=10_uniform_finetuned \\\n",
        "  config=configs/I3D_save_feat.yaml \\\n",
        "  split=train \\\n",
        "  save.num_frames_per_clip.RGB=10 \\\n",
        "  save.dense_sampling.RGB=False"
      ],
      "metadata": {
        "colab": {
          "base_uri": "https://localhost:8080/"
        },
        "collapsed": true,
        "id": "-jt1eG7Bo7OU",
        "outputId": "8591d125-906d-43c9-87b4-ca478c0dd627"
      },
      "execution_count": null,
      "outputs": [
        {
          "output_type": "stream",
          "name": "stderr",
          "text": [
            "2024-06-06 13:27:03 LOG INFO Feature Extraction\n",
            "2024-06-06 13:27:03 LOG INFO Running with parameters: \n",
            "  action: save\n",
            "  name: 10_uniform_finetuned\n",
            "  modality: ['RGB']\n",
            "  total_batch: 128\n",
            "  batch_size: 32\n",
            "  gpus: None\n",
            "  wandb_name: None\n",
            "  resume_from: ./saved_models/I3D_SourceOnlyD1\n",
            "  logname: save_D1-D1.log\n",
            "  models_dir: saved_models/10_uniform_finetuned/Jun06_13-26-59\n",
            "  train:\n",
            "    num_iter: 5000\n",
            "    lr_steps: 3000\n",
            "    eval_freq: 50\n",
            "    num_clips: 5\n",
            "    dense_sampling:\n",
            "      RGB: True\n",
            "    num_frames_per_clip:\n",
            "      RGB: 5\n",
            "  test:\n",
            "    num_clips: 5\n",
            "    dense_sampling:\n",
            "      RGB: True\n",
            "    num_frames_per_clip:\n",
            "      RGB: 5\n",
            "  dataset:\n",
            "    annotations_path: train_val\n",
            "    shift: D1-D1\n",
            "    workers: 4\n",
            "    stride: 2\n",
            "    resolution: 224\n",
            "    RGB:\n",
            "      data_path: ../ek_data/frames\n",
            "      tmpl: img_{:010d}.jpg\n",
            "      features_name: test_feat_kinetics\n",
            "    Event:\n",
            "      rgb4e: 6\n",
            "    num_classes: 8\n",
            "  models:\n",
            "    RGB:\n",
            "      model: I3D\n",
            "      normalize: False\n",
            "      kwargs:\n",
            "      lr_steps: 3000\n",
            "      lr: 0.01\n",
            "      sgd_momentum: 0.9\n",
            "      weight_decay: 1e-07\n",
            "      dropout: 0.5\n",
            "      resolution: 224\n",
            "      weight_i3d_rgb: ./pretrained_i3d/rgb_imagenet.pt\n",
            "  split: train\n",
            "  save:\n",
            "    num_clips: 5\n",
            "    dense_sampling:\n",
            "      RGB: False\n",
            "    num_frames_per_clip:\n",
            "      RGB: 10\n",
            "  config: configs/I3D_save_feat.yaml\n",
            "  experiment_dir: 10_uniform_finetuned/Jun06_13-26-59\n",
            "  log_dir: TEST_RESULTS/10_uniform_finetuned\n",
            "  logfile: TEST_RESULTS/10_uniform_finetuned/save_D1-D1.log\n",
            "2024-06-06 13:27:03 LOG INFO Instantiating models per modality\n",
            "2024-06-06 13:27:03 LOG INFO I3D Net\tModality: RGB\n",
            "2024-06-06 13:27:03 LOG INFO Loading Kinetics weights I3D\n",
            "2024-06-06 13:27:03 LOG INFO  * Skipping Logits weight for 'logits.conv3d.weight'\n",
            "2024-06-06 13:27:03 LOG INFO  * Skipping Logits weight for 'logits.conv3d.bias'\n",
            "2024-06-06 13:27:03 LOG INFO Restoring action-classifier for modality RGB from saved_models/I3D_SourceOnlyD1/Oct25_22-38-50/action-classifier_RGB_9.pth\n",
            "2024-06-06 13:27:03 LOG INFO RGB-Model for action-classifier restored at iter 4850.0\n",
            "Best accuracy on val: 59.54 at iter 4000.0\n",
            "Last accuracy on val: 58.85\n",
            "Last loss: 0.00\n",
            "2024-06-06 13:27:03 LOG INFO Dataloader for D1-train with 1543 samples generated\n",
            "/usr/local/lib/python3.10/dist-packages/torch/utils/data/dataloader.py:558: UserWarning: This DataLoader will create 4 worker processes in total. Our suggested max number of worker in current system is 2, which is smaller than what this DataLoader is going to create. Please be aware that excessive worker creation might get DataLoader running slow or even freeze, lower the worker number to avoid potential slowness/freeze if necessary.\n",
            "  warnings.warn(_create_warning_msg(\n",
            "/usr/local/lib/python3.10/dist-packages/torch/nn/modules/conv.py:605: UserWarning: Plan failed with a cudnnException: CUDNN_BACKEND_EXECUTION_PLAN_DESCRIPTOR: cudnnFinalize Descriptor Failed cudnn_status: CUDNN_STATUS_NOT_SUPPORTED (Triggered internally at ../aten/src/ATen/native/cudnn/Conv_v8.cpp:919.)\n",
            "  return F.conv3d(\n",
            "2024-06-06 13:28:33 LOG INFO [308/1543] top1= 76.948% top5 = 99.351%\n",
            "2024-06-06 13:30:00 LOG INFO [616/1543] top1= 79.221% top5 = 99.513%\n",
            "2024-06-06 13:31:26 LOG INFO [924/1543] top1= 78.571% top5 = 99.459%\n",
            "2024-06-06 13:32:54 LOG INFO [1232/1543] top1= 78.003% top5 = 99.594%\n",
            "2024-06-06 13:34:22 LOG INFO [1540/1543] top1= 77.987% top5 = 99.610%\n",
            "2024-06-06 13:34:22 LOG INFO Final accuracy: top1 = 77.97%\ttop5 = 99.61%\n",
            "2024-06-06 13:34:22 LOG INFO Class 0 = [395/421] = 93.82%\n",
            "2024-06-06 13:34:22 LOG INFO Class 1 = [233/383] = 60.84%\n",
            "2024-06-06 13:34:22 LOG INFO Class 2 = [174/231] = 75.32%\n",
            "2024-06-06 13:34:22 LOG INFO Class 3 = [103/128] = 80.47%\n",
            "2024-06-06 13:34:22 LOG INFO Class 4 = [195/223] = 87.44%\n",
            "2024-06-06 13:34:22 LOG INFO Class 5 = [46/71] = 64.79%\n",
            "2024-06-06 13:34:22 LOG INFO Class 6 = [35/42] = 83.33%\n",
            "2024-06-06 13:34:22 LOG INFO Class 7 = [22/44] = 50.00%\n",
            "2024-06-06 13:34:22 LOG INFO Accuracy by averaging class accuracies (same weight for each class): 74.50239680095005%\n"
          ]
        }
      ]
    },
    {
      "cell_type": "markdown",
      "source": [
        "**10_uniform_finetuned_D1_test**"
      ],
      "metadata": {
        "id": "k8gXBp50o7ti"
      }
    },
    {
      "cell_type": "markdown",
      "source": [
        "done"
      ],
      "metadata": {
        "id": "R4MCEwF4hlTq"
      }
    },
    {
      "cell_type": "code",
      "source": [
        "%%bash\n",
        "\n",
        "cd aml23-ego\n",
        "\n",
        "#10_uniform_finetuned_D1_train\n",
        "python save_feat_RGB_EK.py name=10_uniform_finetuned \\\n",
        "  config=configs/I3D_save_feat.yaml \\\n",
        "  split=test \\\n",
        "  save.num_frames_per_clip.RGB=10 \\\n",
        "  save.dense_sampling.RGB=False"
      ],
      "metadata": {
        "id": "93u96HMMqAHE",
        "colab": {
          "base_uri": "https://localhost:8080/"
        },
        "collapsed": true,
        "outputId": "c35f3149-1342-4b0e-e98d-2d365576115d"
      },
      "execution_count": null,
      "outputs": [
        {
          "output_type": "stream",
          "name": "stderr",
          "text": [
            "2024-06-07 14:16:04 LOG INFO Feature Extraction\n",
            "2024-06-07 14:16:04 LOG INFO Running with parameters: \n",
            "  action: save\n",
            "  name: 10_uniform_finetuned\n",
            "  modality: ['RGB']\n",
            "  total_batch: 128\n",
            "  batch_size: 32\n",
            "  gpus: None\n",
            "  wandb_name: None\n",
            "  resume_from: ./saved_models/I3D_SourceOnlyD1\n",
            "  logname: save_D1-D1.log\n",
            "  models_dir: saved_models/10_uniform_finetuned/Jun07_14-16-00\n",
            "  train:\n",
            "    num_iter: 5000\n",
            "    lr_steps: 3000\n",
            "    eval_freq: 50\n",
            "    num_clips: 5\n",
            "    dense_sampling:\n",
            "      RGB: True\n",
            "    num_frames_per_clip:\n",
            "      RGB: 5\n",
            "  test:\n",
            "    num_clips: 5\n",
            "    dense_sampling:\n",
            "      RGB: True\n",
            "    num_frames_per_clip:\n",
            "      RGB: 5\n",
            "  dataset:\n",
            "    annotations_path: train_val\n",
            "    shift: D1-D1\n",
            "    workers: 4\n",
            "    stride: 2\n",
            "    resolution: 224\n",
            "    RGB:\n",
            "      data_path: ../ek_data/frames\n",
            "      tmpl: img_{:010d}.jpg\n",
            "      features_name: test_feat_kinetics\n",
            "    Event:\n",
            "      rgb4e: 6\n",
            "    num_classes: 8\n",
            "  models:\n",
            "    RGB:\n",
            "      model: I3D\n",
            "      normalize: False\n",
            "      kwargs:\n",
            "      lr_steps: 3000\n",
            "      lr: 0.01\n",
            "      sgd_momentum: 0.9\n",
            "      weight_decay: 1e-07\n",
            "      dropout: 0.5\n",
            "      resolution: 224\n",
            "      weight_i3d_rgb: ./pretrained_i3d/rgb_imagenet.pt\n",
            "  split: test\n",
            "  save:\n",
            "    num_clips: 5\n",
            "    dense_sampling:\n",
            "      RGB: False\n",
            "    num_frames_per_clip:\n",
            "      RGB: 10\n",
            "  config: configs/I3D_save_feat.yaml\n",
            "  experiment_dir: 10_uniform_finetuned/Jun07_14-16-00\n",
            "  log_dir: TEST_RESULTS/10_uniform_finetuned\n",
            "  logfile: TEST_RESULTS/10_uniform_finetuned/save_D1-D1.log\n",
            "2024-06-07 14:16:04 LOG INFO Instantiating models per modality\n",
            "2024-06-07 14:16:04 LOG INFO I3D Net\tModality: RGB\n",
            "2024-06-07 14:16:04 LOG INFO Loading Kinetics weights I3D\n",
            "2024-06-07 14:16:04 LOG INFO  * Skipping Logits weight for 'logits.conv3d.weight'\n",
            "2024-06-07 14:16:04 LOG INFO  * Skipping Logits weight for 'logits.conv3d.bias'\n",
            "2024-06-07 14:16:04 LOG INFO Restoring action-classifier for modality RGB from saved_models/I3D_SourceOnlyD1/Oct25_22-38-50/action-classifier_RGB_9.pth\n",
            "2024-06-07 14:16:04 LOG INFO RGB-Model for action-classifier restored at iter 4850.0\n",
            "Best accuracy on val: 59.54 at iter 4000.0\n",
            "Last accuracy on val: 58.85\n",
            "Last loss: 0.00\n",
            "2024-06-07 14:16:04 LOG INFO Dataloader for D1-test with 435 samples generated\n",
            "/usr/local/lib/python3.10/dist-packages/torch/utils/data/dataloader.py:558: UserWarning: This DataLoader will create 4 worker processes in total. Our suggested max number of worker in current system is 2, which is smaller than what this DataLoader is going to create. Please be aware that excessive worker creation might get DataLoader running slow or even freeze, lower the worker number to avoid potential slowness/freeze if necessary.\n",
            "  warnings.warn(_create_warning_msg(\n",
            "/usr/local/lib/python3.10/dist-packages/torch/nn/modules/conv.py:605: UserWarning: Plan failed with a cudnnException: CUDNN_BACKEND_EXECUTION_PLAN_DESCRIPTOR: cudnnFinalize Descriptor Failed cudnn_status: CUDNN_STATUS_NOT_SUPPORTED (Triggered internally at ../aten/src/ATen/native/cudnn/Conv_v8.cpp:919.)\n",
            "  return F.conv3d(\n",
            "2024-06-07 14:16:28 LOG INFO [87/435] top1= 52.874% top5 = 100.000%\n",
            "2024-06-07 14:16:53 LOG INFO [174/435] top1= 55.747% top5 = 99.425%\n",
            "2024-06-07 14:17:14 LOG INFO [261/435] top1= 52.107% top5 = 98.851%\n",
            "2024-06-07 14:17:36 LOG INFO [348/435] top1= 51.437% top5 = 98.276%\n",
            "2024-06-07 14:17:58 LOG INFO [435/435] top1= 49.425% top5 = 98.391%\n",
            "2024-06-07 14:17:58 LOG INFO Final accuracy: top1 = 49.43%\ttop5 = 98.39%\n",
            "2024-06-07 14:17:58 LOG INFO Class 0 = [81/124] = 65.32%\n",
            "2024-06-07 14:17:58 LOG INFO Class 1 = [40/104] = 38.46%\n",
            "2024-06-07 14:17:58 LOG INFO Class 2 = [19/52] = 36.54%\n",
            "2024-06-07 14:17:58 LOG INFO Class 3 = [9/34] = 26.47%\n",
            "2024-06-07 14:17:58 LOG INFO Class 4 = [46/66] = 69.70%\n",
            "2024-06-07 14:17:58 LOG INFO Class 5 = [7/13] = 53.85%\n",
            "2024-06-07 14:17:58 LOG INFO Class 6 = [12/20] = 60.00%\n",
            "2024-06-07 14:17:58 LOG INFO Class 7 = [1/22] = 4.55%\n",
            "2024-06-07 14:17:58 LOG INFO Accuracy by averaging class accuracies (same weight for each class): 44.36021837112919%\n"
          ]
        }
      ]
    },
    {
      "cell_type": "markdown",
      "source": [
        "**25_dense_finetuned_D1_train**"
      ],
      "metadata": {
        "id": "qy9k4FzaqAWx"
      }
    },
    {
      "cell_type": "markdown",
      "source": [
        "done"
      ],
      "metadata": {
        "id": "77oQtyCb26qD"
      }
    },
    {
      "cell_type": "code",
      "source": [
        "%%bash\n",
        "\n",
        "cd aml23-ego\n",
        "\n",
        "#25_dense_finetuned_D1_train\n",
        "python save_feat_RGB_EK.py name=25_dense_finetuned \\\n",
        "  config=configs/I3D_save_feat.yaml \\\n",
        "  split=train \\\n",
        "  save.num_frames_per_clip.RGB=25 \\\n",
        "  save.dense_sampling.RGB=True"
      ],
      "metadata": {
        "id": "cEUsz5PMqSC3",
        "colab": {
          "base_uri": "https://localhost:8080/"
        },
        "outputId": "677ff144-ee27-48c3-92f3-e39bb025e20e",
        "collapsed": true
      },
      "execution_count": null,
      "outputs": [
        {
          "output_type": "stream",
          "name": "stderr",
          "text": [
            "2024-06-08 21:49:10 LOG INFO Feature Extraction\n",
            "2024-06-08 21:49:10 LOG INFO Running with parameters: \n",
            "  action: save\n",
            "  name: 25_dense_finetuned\n",
            "  modality: ['RGB']\n",
            "  total_batch: 128\n",
            "  batch_size: 32\n",
            "  gpus: None\n",
            "  wandb_name: None\n",
            "  resume_from: ./saved_models/I3D_SourceOnlyD1\n",
            "  logname: save_D1-D1.log\n",
            "  models_dir: saved_models/25_dense_finetuned/Jun08_21-49-07\n",
            "  train:\n",
            "    num_iter: 5000\n",
            "    lr_steps: 3000\n",
            "    eval_freq: 50\n",
            "    num_clips: 5\n",
            "    dense_sampling:\n",
            "      RGB: True\n",
            "    num_frames_per_clip:\n",
            "      RGB: 5\n",
            "  test:\n",
            "    num_clips: 5\n",
            "    dense_sampling:\n",
            "      RGB: True\n",
            "    num_frames_per_clip:\n",
            "      RGB: 5\n",
            "  dataset:\n",
            "    annotations_path: train_val\n",
            "    shift: D1-D1\n",
            "    workers: 4\n",
            "    stride: 2\n",
            "    resolution: 224\n",
            "    RGB:\n",
            "      data_path: ../ek_data/frames\n",
            "      tmpl: img_{:010d}.jpg\n",
            "      features_name: test_feat_kinetics\n",
            "    Event:\n",
            "      rgb4e: 6\n",
            "    num_classes: 8\n",
            "  models:\n",
            "    RGB:\n",
            "      model: I3D\n",
            "      normalize: False\n",
            "      kwargs:\n",
            "      lr_steps: 3000\n",
            "      lr: 0.01\n",
            "      sgd_momentum: 0.9\n",
            "      weight_decay: 1e-07\n",
            "      dropout: 0.5\n",
            "      resolution: 224\n",
            "      weight_i3d_rgb: ./pretrained_i3d/rgb_imagenet.pt\n",
            "  split: train\n",
            "  save:\n",
            "    num_clips: 5\n",
            "    dense_sampling:\n",
            "      RGB: True\n",
            "    num_frames_per_clip:\n",
            "      RGB: 25\n",
            "  config: configs/I3D_save_feat.yaml\n",
            "  experiment_dir: 25_dense_finetuned/Jun08_21-49-07\n",
            "  log_dir: TEST_RESULTS/25_dense_finetuned\n",
            "  logfile: TEST_RESULTS/25_dense_finetuned/save_D1-D1.log\n",
            "2024-06-08 21:49:10 LOG INFO Instantiating models per modality\n",
            "2024-06-08 21:49:10 LOG INFO I3D Net\tModality: RGB\n",
            "2024-06-08 21:49:11 LOG INFO Loading Kinetics weights I3D\n",
            "2024-06-08 21:49:11 LOG INFO  * Skipping Logits weight for 'logits.conv3d.weight'\n",
            "2024-06-08 21:49:11 LOG INFO  * Skipping Logits weight for 'logits.conv3d.bias'\n",
            "2024-06-08 21:49:11 LOG INFO Restoring action-classifier for modality RGB from saved_models/I3D_SourceOnlyD1/Oct25_22-38-50/action-classifier_RGB_9.pth\n",
            "2024-06-08 21:49:12 LOG INFO RGB-Model for action-classifier restored at iter 4850.0\n",
            "Best accuracy on val: 59.54 at iter 4000.0\n",
            "Last accuracy on val: 58.85\n",
            "Last loss: 0.00\n",
            "2024-06-08 21:49:12 LOG INFO Dataloader for D1-train with 1543 samples generated\n",
            "/usr/local/lib/python3.10/dist-packages/torch/utils/data/dataloader.py:558: UserWarning: This DataLoader will create 4 worker processes in total. Our suggested max number of worker in current system is 2, which is smaller than what this DataLoader is going to create. Please be aware that excessive worker creation might get DataLoader running slow or even freeze, lower the worker number to avoid potential slowness/freeze if necessary.\n",
            "  warnings.warn(_create_warning_msg(\n",
            "/usr/local/lib/python3.10/dist-packages/torch/nn/modules/conv.py:605: UserWarning: Plan failed with a cudnnException: CUDNN_BACKEND_EXECUTION_PLAN_DESCRIPTOR: cudnnFinalize Descriptor Failed cudnn_status: CUDNN_STATUS_NOT_SUPPORTED (Triggered internally at ../aten/src/ATen/native/cudnn/Conv_v8.cpp:919.)\n",
            "  return F.conv3d(\n",
            "2024-06-08 21:53:13 LOG INFO [308/1543] top1= 88.312% top5 = 100.000%\n",
            "2024-06-08 21:57:10 LOG INFO [616/1543] top1= 88.799% top5 = 100.000%\n",
            "2024-06-08 22:01:03 LOG INFO [924/1543] top1= 88.745% top5 = 99.892%\n",
            "2024-06-08 22:05:05 LOG INFO [1232/1543] top1= 89.042% top5 = 99.919%\n",
            "2024-06-08 22:09:11 LOG INFO [1540/1543] top1= 88.961% top5 = 99.935%\n",
            "2024-06-08 22:09:13 LOG INFO Final accuracy: top1 = 88.98%\ttop5 = 99.94%\n",
            "2024-06-08 22:09:13 LOG INFO Class 0 = [368/421] = 87.41%\n",
            "2024-06-08 22:09:13 LOG INFO Class 1 = [348/383] = 90.86%\n",
            "2024-06-08 22:09:13 LOG INFO Class 2 = [198/231] = 85.71%\n",
            "2024-06-08 22:09:13 LOG INFO Class 3 = [106/128] = 82.81%\n",
            "2024-06-08 22:09:13 LOG INFO Class 4 = [208/223] = 93.27%\n",
            "2024-06-08 22:09:13 LOG INFO Class 5 = [66/71] = 92.96%\n",
            "2024-06-08 22:09:13 LOG INFO Class 6 = [41/42] = 97.62%\n",
            "2024-06-08 22:09:13 LOG INFO Class 7 = [38/44] = 86.36%\n",
            "2024-06-08 22:09:13 LOG INFO Accuracy by averaging class accuracies (same weight for each class): 89.62666299268639%\n"
          ]
        }
      ]
    },
    {
      "cell_type": "markdown",
      "source": [
        "**25_dense_finetuned_D1_test**"
      ],
      "metadata": {
        "id": "88PL9imJqQ7T"
      }
    },
    {
      "cell_type": "markdown",
      "source": [
        "done"
      ],
      "metadata": {
        "id": "ZfgJzOmo2QYU"
      }
    },
    {
      "cell_type": "code",
      "source": [
        "%%bash\n",
        "\n",
        "cd aml23-ego\n",
        "\n",
        "#25_dense_finetuned_D1_train\n",
        "python save_feat_RGB_EK.py name=25_dense_finetuned \\\n",
        "  config=configs/I3D_save_feat.yaml \\\n",
        "  split=test \\\n",
        "  save.num_frames_per_clip.RGB=25 \\\n",
        "  save.dense_sampling.RGB=True"
      ],
      "metadata": {
        "id": "-8N4mAPIqUvW",
        "colab": {
          "base_uri": "https://localhost:8080/"
        },
        "collapsed": true,
        "outputId": "2a0f5e21-d690-479f-dec0-1e75f0692c47"
      },
      "execution_count": null,
      "outputs": [
        {
          "output_type": "stream",
          "name": "stderr",
          "text": [
            "2024-06-08 22:11:19 LOG INFO Feature Extraction\n",
            "2024-06-08 22:11:19 LOG INFO Running with parameters: \n",
            "  action: save\n",
            "  name: 25_dense_finetuned\n",
            "  modality: ['RGB']\n",
            "  total_batch: 128\n",
            "  batch_size: 32\n",
            "  gpus: None\n",
            "  wandb_name: None\n",
            "  resume_from: ./saved_models/I3D_SourceOnlyD1\n",
            "  logname: save_D1-D1.log\n",
            "  models_dir: saved_models/25_dense_finetuned/Jun08_22-11-16\n",
            "  train:\n",
            "    num_iter: 5000\n",
            "    lr_steps: 3000\n",
            "    eval_freq: 50\n",
            "    num_clips: 5\n",
            "    dense_sampling:\n",
            "      RGB: True\n",
            "    num_frames_per_clip:\n",
            "      RGB: 5\n",
            "  test:\n",
            "    num_clips: 5\n",
            "    dense_sampling:\n",
            "      RGB: True\n",
            "    num_frames_per_clip:\n",
            "      RGB: 5\n",
            "  dataset:\n",
            "    annotations_path: train_val\n",
            "    shift: D1-D1\n",
            "    workers: 4\n",
            "    stride: 2\n",
            "    resolution: 224\n",
            "    RGB:\n",
            "      data_path: ../ek_data/frames\n",
            "      tmpl: img_{:010d}.jpg\n",
            "      features_name: test_feat_kinetics\n",
            "    Event:\n",
            "      rgb4e: 6\n",
            "    num_classes: 8\n",
            "  models:\n",
            "    RGB:\n",
            "      model: I3D\n",
            "      normalize: False\n",
            "      kwargs:\n",
            "      lr_steps: 3000\n",
            "      lr: 0.01\n",
            "      sgd_momentum: 0.9\n",
            "      weight_decay: 1e-07\n",
            "      dropout: 0.5\n",
            "      resolution: 224\n",
            "      weight_i3d_rgb: ./pretrained_i3d/rgb_imagenet.pt\n",
            "  split: test\n",
            "  save:\n",
            "    num_clips: 5\n",
            "    dense_sampling:\n",
            "      RGB: True\n",
            "    num_frames_per_clip:\n",
            "      RGB: 25\n",
            "  config: configs/I3D_save_feat.yaml\n",
            "  experiment_dir: 25_dense_finetuned/Jun08_22-11-16\n",
            "  log_dir: TEST_RESULTS/25_dense_finetuned\n",
            "  logfile: TEST_RESULTS/25_dense_finetuned/save_D1-D1.log\n",
            "2024-06-08 22:11:19 LOG INFO Instantiating models per modality\n",
            "2024-06-08 22:11:19 LOG INFO I3D Net\tModality: RGB\n",
            "2024-06-08 22:11:19 LOG INFO Loading Kinetics weights I3D\n",
            "2024-06-08 22:11:19 LOG INFO  * Skipping Logits weight for 'logits.conv3d.weight'\n",
            "2024-06-08 22:11:19 LOG INFO  * Skipping Logits weight for 'logits.conv3d.bias'\n",
            "2024-06-08 22:11:19 LOG INFO Restoring action-classifier for modality RGB from saved_models/I3D_SourceOnlyD1/Oct25_22-38-50/action-classifier_RGB_9.pth\n",
            "2024-06-08 22:11:19 LOG INFO RGB-Model for action-classifier restored at iter 4850.0\n",
            "Best accuracy on val: 59.54 at iter 4000.0\n",
            "Last accuracy on val: 58.85\n",
            "Last loss: 0.00\n",
            "2024-06-08 22:11:19 LOG INFO Dataloader for D1-test with 435 samples generated\n",
            "/usr/local/lib/python3.10/dist-packages/torch/utils/data/dataloader.py:558: UserWarning: This DataLoader will create 4 worker processes in total. Our suggested max number of worker in current system is 2, which is smaller than what this DataLoader is going to create. Please be aware that excessive worker creation might get DataLoader running slow or even freeze, lower the worker number to avoid potential slowness/freeze if necessary.\n",
            "  warnings.warn(_create_warning_msg(\n",
            "/usr/local/lib/python3.10/dist-packages/torch/nn/modules/conv.py:605: UserWarning: Plan failed with a cudnnException: CUDNN_BACKEND_EXECUTION_PLAN_DESCRIPTOR: cudnnFinalize Descriptor Failed cudnn_status: CUDNN_STATUS_NOT_SUPPORTED (Triggered internally at ../aten/src/ATen/native/cudnn/Conv_v8.cpp:919.)\n",
            "  return F.conv3d(\n",
            "2024-06-08 22:12:24 LOG INFO [87/435] top1= 57.471% top5 = 95.402%\n",
            "2024-06-08 22:13:21 LOG INFO [174/435] top1= 62.644% top5 = 97.126%\n",
            "2024-06-08 22:14:23 LOG INFO [261/435] top1= 59.004% top5 = 96.935%\n",
            "2024-06-08 22:15:22 LOG INFO [348/435] top1= 57.184% top5 = 96.264%\n",
            "2024-06-08 22:16:22 LOG INFO [435/435] top1= 55.402% top5 = 97.011%\n",
            "2024-06-08 22:16:22 LOG INFO Final accuracy: top1 = 55.40%\ttop5 = 97.01%\n",
            "2024-06-08 22:16:22 LOG INFO Class 0 = [57/124] = 45.97%\n",
            "2024-06-08 22:16:22 LOG INFO Class 1 = [67/104] = 64.42%\n",
            "2024-06-08 22:16:22 LOG INFO Class 2 = [31/52] = 59.62%\n",
            "2024-06-08 22:16:22 LOG INFO Class 3 = [16/34] = 47.06%\n",
            "2024-06-08 22:16:22 LOG INFO Class 4 = [44/66] = 66.67%\n",
            "2024-06-08 22:16:22 LOG INFO Class 5 = [8/13] = 61.54%\n",
            "2024-06-08 22:16:22 LOG INFO Class 6 = [11/20] = 55.00%\n",
            "2024-06-08 22:16:22 LOG INFO Class 7 = [7/22] = 31.82%\n",
            "2024-06-08 22:16:22 LOG INFO Accuracy by averaging class accuracies (same weight for each class): 54.0110421283334%\n"
          ]
        }
      ]
    },
    {
      "cell_type": "markdown",
      "source": [
        "**25_uniform_finetuned_D1_train**"
      ],
      "metadata": {
        "id": "2Y3szKr-qcBF"
      }
    },
    {
      "cell_type": "markdown",
      "source": [
        "done"
      ],
      "metadata": {
        "id": "579Cixyb3M-W"
      }
    },
    {
      "cell_type": "code",
      "source": [
        "%%bash\n",
        "\n",
        "cd aml23-ego\n",
        "\n",
        "#25_uniform_finetuned_D1_train\n",
        "python save_feat_RGB_EK.py name=25_uniform_finetuned \\\n",
        "  config=configs/I3D_save_feat.yaml \\\n",
        "  split=train \\\n",
        "  save.num_frames_per_clip.RGB=25 \\\n",
        "  save.dense_sampling.RGB=False"
      ],
      "metadata": {
        "id": "g9qvHWkdqaUv",
        "colab": {
          "base_uri": "https://localhost:8080/"
        },
        "outputId": "34f2568e-225b-4fb1-9b4e-aa40fb9d9e67",
        "collapsed": true
      },
      "execution_count": null,
      "outputs": [
        {
          "output_type": "stream",
          "name": "stderr",
          "text": [
            "2024-06-08 22:30:02 LOG INFO Feature Extraction\n",
            "2024-06-08 22:30:02 LOG INFO Running with parameters: \n",
            "  action: save\n",
            "  name: 25_uniform_finetuned\n",
            "  modality: ['RGB']\n",
            "  total_batch: 128\n",
            "  batch_size: 32\n",
            "  gpus: None\n",
            "  wandb_name: None\n",
            "  resume_from: ./saved_models/I3D_SourceOnlyD1\n",
            "  logname: save_D1-D1.log\n",
            "  models_dir: saved_models/25_uniform_finetuned/Jun08_22-29-58\n",
            "  train:\n",
            "    num_iter: 5000\n",
            "    lr_steps: 3000\n",
            "    eval_freq: 50\n",
            "    num_clips: 5\n",
            "    dense_sampling:\n",
            "      RGB: True\n",
            "    num_frames_per_clip:\n",
            "      RGB: 5\n",
            "  test:\n",
            "    num_clips: 5\n",
            "    dense_sampling:\n",
            "      RGB: True\n",
            "    num_frames_per_clip:\n",
            "      RGB: 5\n",
            "  dataset:\n",
            "    annotations_path: train_val\n",
            "    shift: D1-D1\n",
            "    workers: 4\n",
            "    stride: 2\n",
            "    resolution: 224\n",
            "    RGB:\n",
            "      data_path: ../ek_data/frames\n",
            "      tmpl: img_{:010d}.jpg\n",
            "      features_name: test_feat_kinetics\n",
            "    Event:\n",
            "      rgb4e: 6\n",
            "    num_classes: 8\n",
            "  models:\n",
            "    RGB:\n",
            "      model: I3D\n",
            "      normalize: False\n",
            "      kwargs:\n",
            "      lr_steps: 3000\n",
            "      lr: 0.01\n",
            "      sgd_momentum: 0.9\n",
            "      weight_decay: 1e-07\n",
            "      dropout: 0.5\n",
            "      resolution: 224\n",
            "      weight_i3d_rgb: ./pretrained_i3d/rgb_imagenet.pt\n",
            "  split: train\n",
            "  save:\n",
            "    num_clips: 5\n",
            "    dense_sampling:\n",
            "      RGB: False\n",
            "    num_frames_per_clip:\n",
            "      RGB: 25\n",
            "  config: configs/I3D_save_feat.yaml\n",
            "  experiment_dir: 25_uniform_finetuned/Jun08_22-29-58\n",
            "  log_dir: TEST_RESULTS/25_uniform_finetuned\n",
            "  logfile: TEST_RESULTS/25_uniform_finetuned/save_D1-D1.log\n",
            "2024-06-08 22:30:02 LOG INFO Instantiating models per modality\n",
            "2024-06-08 22:30:02 LOG INFO I3D Net\tModality: RGB\n",
            "2024-06-08 22:30:02 LOG INFO Loading Kinetics weights I3D\n",
            "2024-06-08 22:30:02 LOG INFO  * Skipping Logits weight for 'logits.conv3d.weight'\n",
            "2024-06-08 22:30:02 LOG INFO  * Skipping Logits weight for 'logits.conv3d.bias'\n",
            "2024-06-08 22:30:02 LOG INFO Restoring action-classifier for modality RGB from saved_models/I3D_SourceOnlyD1/Oct25_22-38-50/action-classifier_RGB_9.pth\n",
            "2024-06-08 22:30:02 LOG INFO RGB-Model for action-classifier restored at iter 4850.0\n",
            "Best accuracy on val: 59.54 at iter 4000.0\n",
            "Last accuracy on val: 58.85\n",
            "Last loss: 0.00\n",
            "2024-06-08 22:30:02 LOG INFO Dataloader for D1-train with 1543 samples generated\n",
            "/usr/local/lib/python3.10/dist-packages/torch/utils/data/dataloader.py:558: UserWarning: This DataLoader will create 4 worker processes in total. Our suggested max number of worker in current system is 2, which is smaller than what this DataLoader is going to create. Please be aware that excessive worker creation might get DataLoader running slow or even freeze, lower the worker number to avoid potential slowness/freeze if necessary.\n",
            "  warnings.warn(_create_warning_msg(\n",
            "/usr/local/lib/python3.10/dist-packages/torch/nn/modules/conv.py:605: UserWarning: Plan failed with a cudnnException: CUDNN_BACKEND_EXECUTION_PLAN_DESCRIPTOR: cudnnFinalize Descriptor Failed cudnn_status: CUDNN_STATUS_NOT_SUPPORTED (Triggered internally at ../aten/src/ATen/native/cudnn/Conv_v8.cpp:919.)\n",
            "  return F.conv3d(\n",
            "2024-06-08 22:33:48 LOG INFO [308/1543] top1= 70.779% top5 = 99.351%\n",
            "2024-06-08 22:37:31 LOG INFO [616/1543] top1= 72.565% top5 = 99.026%\n",
            "2024-06-08 22:41:23 LOG INFO [924/1543] top1= 73.918% top5 = 99.026%\n",
            "2024-06-08 22:45:10 LOG INFO [1232/1543] top1= 72.403% top5 = 99.107%\n",
            "2024-06-08 22:48:53 LOG INFO [1540/1543] top1= 72.013% top5 = 99.286%\n",
            "2024-06-08 22:48:54 LOG INFO Final accuracy: top1 = 72.00%\ttop5 = 99.29%\n",
            "2024-06-08 22:48:54 LOG INFO Class 0 = [284/421] = 67.46%\n",
            "2024-06-08 22:48:54 LOG INFO Class 1 = [328/383] = 85.64%\n",
            "2024-06-08 22:48:54 LOG INFO Class 2 = [86/231] = 37.23%\n",
            "2024-06-08 22:48:54 LOG INFO Class 3 = [90/128] = 70.31%\n",
            "2024-06-08 22:48:54 LOG INFO Class 4 = [188/223] = 84.30%\n",
            "2024-06-08 22:48:54 LOG INFO Class 5 = [62/71] = 87.32%\n",
            "2024-06-08 22:48:54 LOG INFO Class 6 = [38/42] = 90.48%\n",
            "2024-06-08 22:48:54 LOG INFO Class 7 = [35/44] = 79.55%\n",
            "2024-06-08 22:48:54 LOG INFO Accuracy by averaging class accuracies (same weight for each class): 75.2863222045739%\n"
          ]
        }
      ]
    },
    {
      "cell_type": "markdown",
      "source": [
        "**25_uniform_finetuned_D1_test**"
      ],
      "metadata": {
        "id": "sCZXL5VHqfZN"
      }
    },
    {
      "cell_type": "markdown",
      "source": [
        "done"
      ],
      "metadata": {
        "id": "SOpDcQT03PN1"
      }
    },
    {
      "cell_type": "code",
      "source": [
        "%%bash\n",
        "\n",
        "cd aml23-ego\n",
        "\n",
        "#25_uniform_finetuned_D1_train\n",
        "python save_feat_RGB_EK.py name=25_uniform_finetuned \\\n",
        "  config=configs/I3D_save_feat.yaml \\\n",
        "  split=test \\\n",
        "  save.num_frames_per_clip.RGB=25 \\\n",
        "  save.dense_sampling.RGB=False"
      ],
      "metadata": {
        "id": "zcgcVM1Eqh8b",
        "colab": {
          "base_uri": "https://localhost:8080/"
        },
        "collapsed": true,
        "outputId": "2bfc4b5d-9aa4-4cc6-a38a-6f6d2e6b5044"
      },
      "execution_count": null,
      "outputs": [
        {
          "output_type": "stream",
          "name": "stderr",
          "text": [
            "2024-06-08 22:18:15 LOG INFO Feature Extraction\n",
            "2024-06-08 22:18:15 LOG INFO Running with parameters: \n",
            "  action: save\n",
            "  name: 25_uniform_finetuned\n",
            "  modality: ['RGB']\n",
            "  total_batch: 128\n",
            "  batch_size: 32\n",
            "  gpus: None\n",
            "  wandb_name: None\n",
            "  resume_from: ./saved_models/I3D_SourceOnlyD1\n",
            "  logname: save_D1-D1.log\n",
            "  models_dir: saved_models/25_uniform_finetuned/Jun08_22-18-11\n",
            "  train:\n",
            "    num_iter: 5000\n",
            "    lr_steps: 3000\n",
            "    eval_freq: 50\n",
            "    num_clips: 5\n",
            "    dense_sampling:\n",
            "      RGB: True\n",
            "    num_frames_per_clip:\n",
            "      RGB: 5\n",
            "  test:\n",
            "    num_clips: 5\n",
            "    dense_sampling:\n",
            "      RGB: True\n",
            "    num_frames_per_clip:\n",
            "      RGB: 5\n",
            "  dataset:\n",
            "    annotations_path: train_val\n",
            "    shift: D1-D1\n",
            "    workers: 4\n",
            "    stride: 2\n",
            "    resolution: 224\n",
            "    RGB:\n",
            "      data_path: ../ek_data/frames\n",
            "      tmpl: img_{:010d}.jpg\n",
            "      features_name: test_feat_kinetics\n",
            "    Event:\n",
            "      rgb4e: 6\n",
            "    num_classes: 8\n",
            "  models:\n",
            "    RGB:\n",
            "      model: I3D\n",
            "      normalize: False\n",
            "      kwargs:\n",
            "      lr_steps: 3000\n",
            "      lr: 0.01\n",
            "      sgd_momentum: 0.9\n",
            "      weight_decay: 1e-07\n",
            "      dropout: 0.5\n",
            "      resolution: 224\n",
            "      weight_i3d_rgb: ./pretrained_i3d/rgb_imagenet.pt\n",
            "  split: test\n",
            "  save:\n",
            "    num_clips: 5\n",
            "    dense_sampling:\n",
            "      RGB: False\n",
            "    num_frames_per_clip:\n",
            "      RGB: 25\n",
            "  config: configs/I3D_save_feat.yaml\n",
            "  experiment_dir: 25_uniform_finetuned/Jun08_22-18-11\n",
            "  log_dir: TEST_RESULTS/25_uniform_finetuned\n",
            "  logfile: TEST_RESULTS/25_uniform_finetuned/save_D1-D1.log\n",
            "2024-06-08 22:18:15 LOG INFO Instantiating models per modality\n",
            "2024-06-08 22:18:15 LOG INFO I3D Net\tModality: RGB\n",
            "2024-06-08 22:18:15 LOG INFO Loading Kinetics weights I3D\n",
            "2024-06-08 22:18:15 LOG INFO  * Skipping Logits weight for 'logits.conv3d.weight'\n",
            "2024-06-08 22:18:15 LOG INFO  * Skipping Logits weight for 'logits.conv3d.bias'\n",
            "2024-06-08 22:18:15 LOG INFO Restoring action-classifier for modality RGB from saved_models/I3D_SourceOnlyD1/Oct25_22-38-50/action-classifier_RGB_9.pth\n",
            "2024-06-08 22:18:16 LOG INFO RGB-Model for action-classifier restored at iter 4850.0\n",
            "Best accuracy on val: 59.54 at iter 4000.0\n",
            "Last accuracy on val: 58.85\n",
            "Last loss: 0.00\n",
            "2024-06-08 22:18:16 LOG INFO Dataloader for D1-test with 435 samples generated\n",
            "/usr/local/lib/python3.10/dist-packages/torch/utils/data/dataloader.py:558: UserWarning: This DataLoader will create 4 worker processes in total. Our suggested max number of worker in current system is 2, which is smaller than what this DataLoader is going to create. Please be aware that excessive worker creation might get DataLoader running slow or even freeze, lower the worker number to avoid potential slowness/freeze if necessary.\n",
            "  warnings.warn(_create_warning_msg(\n",
            "/usr/local/lib/python3.10/dist-packages/torch/nn/modules/conv.py:605: UserWarning: Plan failed with a cudnnException: CUDNN_BACKEND_EXECUTION_PLAN_DESCRIPTOR: cudnnFinalize Descriptor Failed cudnn_status: CUDNN_STATUS_NOT_SUPPORTED (Triggered internally at ../aten/src/ATen/native/cudnn/Conv_v8.cpp:919.)\n",
            "  return F.conv3d(\n",
            "2024-06-08 22:19:17 LOG INFO [87/435] top1= 43.678% top5 = 90.805%\n",
            "2024-06-08 22:20:16 LOG INFO [174/435] top1= 50.000% top5 = 93.103%\n",
            "2024-06-08 22:21:13 LOG INFO [261/435] top1= 48.659% top5 = 93.103%\n",
            "2024-06-08 22:22:11 LOG INFO [348/435] top1= 45.977% top5 = 92.816%\n",
            "2024-06-08 22:23:11 LOG INFO [435/435] top1= 45.287% top5 = 93.793%\n",
            "2024-06-08 22:23:11 LOG INFO Final accuracy: top1 = 45.29%\ttop5 = 93.79%\n",
            "2024-06-08 22:23:11 LOG INFO Class 0 = [38/124] = 30.65%\n",
            "2024-06-08 22:23:11 LOG INFO Class 1 = [77/104] = 74.04%\n",
            "2024-06-08 22:23:11 LOG INFO Class 2 = [12/52] = 23.08%\n",
            "2024-06-08 22:23:11 LOG INFO Class 3 = [9/34] = 26.47%\n",
            "2024-06-08 22:23:11 LOG INFO Class 4 = [37/66] = 56.06%\n",
            "2024-06-08 22:23:11 LOG INFO Class 5 = [6/13] = 46.15%\n",
            "2024-06-08 22:23:11 LOG INFO Class 6 = [14/20] = 70.00%\n",
            "2024-06-08 22:23:11 LOG INFO Class 7 = [4/22] = 18.18%\n",
            "2024-06-08 22:23:11 LOG INFO Accuracy by averaging class accuracies (same weight for each class): 43.07842556715896%\n"
          ]
        }
      ]
    }
  ]
}